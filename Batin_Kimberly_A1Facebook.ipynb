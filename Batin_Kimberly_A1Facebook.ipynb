{
 "cells": [
  {
   "cell_type": "markdown",
   "id": "fe5790af",
   "metadata": {},
   "source": [
    "<hr style=\"height:.9px;border:none;color:#333;background-color:#333;\" />\n",
    "<hr style=\"height:.9px;border:none;color:#333;background-color:#333;\" />\n",
    "\n",
    "<h2>A1: Unsupervised Analysis Project</h2>\n",
    "<br>Kimberly Batin<br>\n",
    "\n",
    "<br>\n",
    "<hr style=\"height:.9px;border:none;color:#333;background-color:#333;\" />\n",
    "<hr style=\"height:.9px;border:none;color:#333;background-color:#333;\" />"
   ]
  },
  {
   "cell_type": "markdown",
   "id": "d15dbb59",
   "metadata": {},
   "source": [
    "<h2>Introduction</h2><br>\n",
    "\n",
    "Social media evolves very quick, catching up and updating the tactics never stop. Understanding the dynamics of user engagement across various content types is crucial for content creators, business owners, and marketers alike. Among the content types available, photos have traditionally been regarded as one of the most engaging forms of media on platforms like Facebook, Instagram, and Twitter. This study aim to investigate the impact of photo content on user engagement in the context of Facebook Live sellers in Thailand. Photos have been traditionally regarded as highly engaging content. This study will verify the accuracy of this belief by comparing the engagement metrics of photos to other forms of content such as videos and text posts.\n",
    "\n",
    "This analysis will also give an idea on recent trends in user behavior and engagement. The findings of this analysis could inform content strategies, helping brands and small businesses optimize their posts to better suit the preferences of their audiences. Through a combination of data aggregation, visual analysis, and model testing, the analyst aims to provide a comprehensive overview of the current state of Facebook engagement.\n"
   ]
  },
  {
   "cell_type": "markdown",
   "id": "2a703146",
   "metadata": {},
   "source": [
    "<h2> Import Libraries and Preparation </h2>"
   ]
  },
  {
   "cell_type": "code",
   "execution_count": 1,
   "id": "32a948c5",
   "metadata": {},
   "outputs": [
    {
     "data": {
      "text/html": [
       "<div>\n",
       "<style scoped>\n",
       "    .dataframe tbody tr th:only-of-type {\n",
       "        vertical-align: middle;\n",
       "    }\n",
       "\n",
       "    .dataframe tbody tr th {\n",
       "        vertical-align: top;\n",
       "    }\n",
       "\n",
       "    .dataframe thead th {\n",
       "        text-align: right;\n",
       "    }\n",
       "</style>\n",
       "<table border=\"1\" class=\"dataframe\">\n",
       "  <thead>\n",
       "    <tr style=\"text-align: right;\">\n",
       "      <th></th>\n",
       "      <th>status_id</th>\n",
       "      <th>status_type</th>\n",
       "      <th>time_published</th>\n",
       "      <th>num_comments</th>\n",
       "      <th>num_shares</th>\n",
       "      <th>num_likes</th>\n",
       "      <th>num_loves</th>\n",
       "      <th>num_wows</th>\n",
       "      <th>num_hahas</th>\n",
       "      <th>num_sads</th>\n",
       "      <th>num_angrys</th>\n",
       "    </tr>\n",
       "  </thead>\n",
       "  <tbody>\n",
       "    <tr>\n",
       "      <th>0</th>\n",
       "      <td>1</td>\n",
       "      <td>photo</td>\n",
       "      <td>2023-07-04 22:45:00</td>\n",
       "      <td>0</td>\n",
       "      <td>0</td>\n",
       "      <td>150</td>\n",
       "      <td>0</td>\n",
       "      <td>0</td>\n",
       "      <td>0</td>\n",
       "      <td>0</td>\n",
       "      <td>0</td>\n",
       "    </tr>\n",
       "    <tr>\n",
       "      <th>1</th>\n",
       "      <td>2</td>\n",
       "      <td>photo</td>\n",
       "      <td>2023-06-23 01:01:00</td>\n",
       "      <td>2</td>\n",
       "      <td>3</td>\n",
       "      <td>202</td>\n",
       "      <td>7</td>\n",
       "      <td>1</td>\n",
       "      <td>0</td>\n",
       "      <td>0</td>\n",
       "      <td>0</td>\n",
       "    </tr>\n",
       "    <tr>\n",
       "      <th>2</th>\n",
       "      <td>3</td>\n",
       "      <td>photo</td>\n",
       "      <td>2023-06-21 02:23:00</td>\n",
       "      <td>4</td>\n",
       "      <td>0</td>\n",
       "      <td>200</td>\n",
       "      <td>8</td>\n",
       "      <td>1</td>\n",
       "      <td>0</td>\n",
       "      <td>0</td>\n",
       "      <td>0</td>\n",
       "    </tr>\n",
       "    <tr>\n",
       "      <th>3</th>\n",
       "      <td>4</td>\n",
       "      <td>video</td>\n",
       "      <td>2023-06-14 05:16:00</td>\n",
       "      <td>100</td>\n",
       "      <td>30</td>\n",
       "      <td>303</td>\n",
       "      <td>23</td>\n",
       "      <td>1</td>\n",
       "      <td>5</td>\n",
       "      <td>0</td>\n",
       "      <td>0</td>\n",
       "    </tr>\n",
       "    <tr>\n",
       "      <th>4</th>\n",
       "      <td>5</td>\n",
       "      <td>video</td>\n",
       "      <td>2023-06-08 08:28:00</td>\n",
       "      <td>173</td>\n",
       "      <td>47</td>\n",
       "      <td>132</td>\n",
       "      <td>16</td>\n",
       "      <td>1</td>\n",
       "      <td>0</td>\n",
       "      <td>1</td>\n",
       "      <td>0</td>\n",
       "    </tr>\n",
       "  </tbody>\n",
       "</table>\n",
       "</div>"
      ],
      "text/plain": [
       "   status_id status_type      time_published  num_comments  num_shares  num_likes  num_loves  num_wows  num_hahas  num_sads  num_angrys\n",
       "0          1       photo 2023-07-04 22:45:00             0           0        150          0         0          0         0           0\n",
       "1          2       photo 2023-06-23 01:01:00             2           3        202          7         1          0         0           0\n",
       "2          3       photo 2023-06-21 02:23:00             4           0        200          8         1          0         0           0\n",
       "3          4       video 2023-06-14 05:16:00           100          30        303         23         1          5         0           0\n",
       "4          5       video 2023-06-08 08:28:00           173          47        132         16         1          0         1           0"
      ]
     },
     "execution_count": 1,
     "metadata": {},
     "output_type": "execute_result"
    }
   ],
   "source": [
    "########################################\n",
    "# importing packages\n",
    "########################################\n",
    "import numpy                 as np  # mathematical essentials\n",
    "import pandas                as pd  # data science essentials\n",
    "import matplotlib.pyplot     as plt # fundamental data visualization\n",
    "import seaborn               as sns # enhanced visualizations\n",
    "\n",
    "# packages for unsupervised learning\n",
    "from sklearn.preprocessing   import StandardScaler      # standard scaler\n",
    "from sklearn.decomposition   import PCA                 # pca\n",
    "from scipy.cluster.hierarchy import dendrogram, linkage # dendrograms\n",
    "from sklearn.cluster         import KMeans              # k-means clustering\n",
    "from sklearn.model_selection import train_test_split        # train-test split\n",
    "from sklearn.metrics import confusion_matrix, roc_auc_score # results analysis\n",
    "from sklearn.cluster import KMeans                          # k-means clustering\n",
    "import sklearn.linear_model                                 # classification modeling\n",
    "\n",
    "########################################\n",
    "# loading data and setting display options\n",
    "########################################\n",
    "# loading data\n",
    "facebook = pd.read_excel(io = '/Users/kimberly/Desktop/AI - A1/facebook_live_data.xlsx')\n",
    "\n",
    "\n",
    "# setting print options\n",
    "pd.set_option('display.max_rows', 500)\n",
    "pd.set_option('display.max_columns', 500)\n",
    "pd.set_option('display.width', 1000)\n",
    "pd.set_option('display.max_colwidth', 100)\n",
    "\n",
    "facebook.head(n = 5)"
   ]
  },
  {
   "cell_type": "code",
   "execution_count": 2,
   "id": "5940d612",
   "metadata": {},
   "outputs": [],
   "source": [
    "########################################\n",
    "# scree_plot\n",
    "########################################\n",
    "def scree_plot(pca_object, export = False):\n",
    "    \"\"\"\n",
    "    Visualizes a scree plot from a pca object.\n",
    "    \n",
    "    PARAMETERS\n",
    "    ----------\n",
    "    pca_object | A fitted pca object\n",
    "    export     | Set to True if you would like to save the scree plot to the\n",
    "               | current working directory (default: False)\n",
    "    \"\"\"\n",
    "    # building a scree plot\n",
    "\n",
    "    # setting plot size\n",
    "    fig, ax = plt.subplots(figsize=(10, 8))\n",
    "    features = range(pca_object.n_components_)\n",
    "\n",
    "\n",
    "    # developing a scree plot\n",
    "    plt.plot(features,\n",
    "             pca_object.explained_variance_ratio_,\n",
    "             linewidth = 2,\n",
    "             marker = 'o',\n",
    "             markersize = 10,\n",
    "             markeredgecolor = 'black',\n",
    "             markerfacecolor = 'grey')\n",
    "\n",
    "\n",
    "    # setting more plot options\n",
    "    plt.title('Scree Plot')\n",
    "    plt.xlabel('PCA feature')\n",
    "    plt.ylabel('Explained Variance')\n",
    "    plt.xticks(features)\n",
    "\n",
    "    if export == True:\n",
    "    \n",
    "        # exporting the plot\n",
    "        plt.savefig('./analysis_images/top_customers_correlation_scree_plot.png')\n",
    "        \n",
    "    # displaying the plot\n",
    "    plt.show()\n",
    "\n",
    "\n",
    "########################################\n",
    "# unsupervised_scaler\n",
    "########################################\n",
    "def scaler(df):\n",
    "    \"\"\"\n",
    "    Standardizes a dataset (mean = 0, variance = 1). Returns a new DataFrame.\n",
    "    Requires sklearn.preprocessing.StandardScaler()\n",
    "    \n",
    "    PARAMETERS\n",
    "    ----------\n",
    "    df     | DataFrame to be used for scaling\n",
    "    \"\"\"\n",
    "\n",
    "    # INSTANTIATING a StandardScaler() object\n",
    "    scaler = StandardScaler(copy = True)\n",
    "\n",
    "\n",
    "    # FITTING the scaler with the data\n",
    "    scaler.fit(df)\n",
    "\n",
    "\n",
    "    # TRANSFORMING our data after fit\n",
    "    x_scaled = scaler.transform(df)\n",
    "\n",
    "    \n",
    "    # converting scaled data into a DataFrame\n",
    "    new_df = pd.DataFrame(x_scaled)\n",
    "\n",
    "\n",
    "    # reattaching column names\n",
    "    new_df.columns = list(df.columns)\n",
    "    \n",
    "    return new_df"
   ]
  },
  {
   "cell_type": "code",
   "execution_count": 3,
   "id": "8f89245e",
   "metadata": {},
   "outputs": [
    {
     "name": "stdout",
     "output_type": "stream",
     "text": [
      "<class 'pandas.core.frame.DataFrame'>\n",
      "RangeIndex: 2362 entries, 0 to 2361\n",
      "Data columns (total 11 columns):\n",
      " #   Column          Non-Null Count  Dtype         \n",
      "---  ------          --------------  -----         \n",
      " 0   status_id       2362 non-null   int64         \n",
      " 1   status_type     2362 non-null   object        \n",
      " 2   time_published  2362 non-null   datetime64[ns]\n",
      " 3   num_comments    2362 non-null   int64         \n",
      " 4   num_shares      2362 non-null   int64         \n",
      " 5   num_likes       2362 non-null   int64         \n",
      " 6   num_loves       2362 non-null   int64         \n",
      " 7   num_wows        2362 non-null   int64         \n",
      " 8   num_hahas       2362 non-null   int64         \n",
      " 9   num_sads        2362 non-null   int64         \n",
      " 10  num_angrys      2362 non-null   int64         \n",
      "dtypes: datetime64[ns](1), int64(9), object(1)\n",
      "memory usage: 203.1+ KB\n"
     ]
    }
   ],
   "source": [
    "# checking information about each column\n",
    "facebook.info(verbose = True)"
   ]
  },
  {
   "cell_type": "code",
   "execution_count": 4,
   "id": "5c50a76f",
   "metadata": {},
   "outputs": [
    {
     "data": {
      "text/html": [
       "<div>\n",
       "<style scoped>\n",
       "    .dataframe tbody tr th:only-of-type {\n",
       "        vertical-align: middle;\n",
       "    }\n",
       "\n",
       "    .dataframe tbody tr th {\n",
       "        vertical-align: top;\n",
       "    }\n",
       "\n",
       "    .dataframe thead th {\n",
       "        text-align: right;\n",
       "    }\n",
       "</style>\n",
       "<table border=\"1\" class=\"dataframe\">\n",
       "  <thead>\n",
       "    <tr style=\"text-align: right;\">\n",
       "      <th></th>\n",
       "      <th>status_id</th>\n",
       "      <th>num_comments</th>\n",
       "      <th>num_shares</th>\n",
       "      <th>num_likes</th>\n",
       "      <th>num_loves</th>\n",
       "      <th>num_wows</th>\n",
       "      <th>num_hahas</th>\n",
       "      <th>num_sads</th>\n",
       "      <th>num_angrys</th>\n",
       "    </tr>\n",
       "  </thead>\n",
       "  <tbody>\n",
       "    <tr>\n",
       "      <th>count</th>\n",
       "      <td>2362.00</td>\n",
       "      <td>2362.00</td>\n",
       "      <td>2362.00</td>\n",
       "      <td>2362.00</td>\n",
       "      <td>2362.00</td>\n",
       "      <td>2362.00</td>\n",
       "      <td>2362.00</td>\n",
       "      <td>2362.00</td>\n",
       "      <td>2362.00</td>\n",
       "    </tr>\n",
       "    <tr>\n",
       "      <th>mean</th>\n",
       "      <td>1181.50</td>\n",
       "      <td>233.73</td>\n",
       "      <td>39.82</td>\n",
       "      <td>221.15</td>\n",
       "      <td>12.83</td>\n",
       "      <td>1.28</td>\n",
       "      <td>0.74</td>\n",
       "      <td>0.26</td>\n",
       "      <td>0.12</td>\n",
       "    </tr>\n",
       "    <tr>\n",
       "      <th>std</th>\n",
       "      <td>681.99</td>\n",
       "      <td>856.36</td>\n",
       "      <td>123.78</td>\n",
       "      <td>467.31</td>\n",
       "      <td>41.00</td>\n",
       "      <td>8.72</td>\n",
       "      <td>4.11</td>\n",
       "      <td>1.84</td>\n",
       "      <td>0.90</td>\n",
       "    </tr>\n",
       "    <tr>\n",
       "      <th>min</th>\n",
       "      <td>1.00</td>\n",
       "      <td>0.00</td>\n",
       "      <td>0.00</td>\n",
       "      <td>0.00</td>\n",
       "      <td>0.00</td>\n",
       "      <td>0.00</td>\n",
       "      <td>0.00</td>\n",
       "      <td>0.00</td>\n",
       "      <td>0.00</td>\n",
       "    </tr>\n",
       "    <tr>\n",
       "      <th>25%</th>\n",
       "      <td>591.25</td>\n",
       "      <td>0.00</td>\n",
       "      <td>0.00</td>\n",
       "      <td>17.00</td>\n",
       "      <td>0.00</td>\n",
       "      <td>0.00</td>\n",
       "      <td>0.00</td>\n",
       "      <td>0.00</td>\n",
       "      <td>0.00</td>\n",
       "    </tr>\n",
       "    <tr>\n",
       "      <th>50%</th>\n",
       "      <td>1181.50</td>\n",
       "      <td>4.00</td>\n",
       "      <td>0.00</td>\n",
       "      <td>57.00</td>\n",
       "      <td>0.00</td>\n",
       "      <td>0.00</td>\n",
       "      <td>0.00</td>\n",
       "      <td>0.00</td>\n",
       "      <td>0.00</td>\n",
       "    </tr>\n",
       "    <tr>\n",
       "      <th>75%</th>\n",
       "      <td>1771.75</td>\n",
       "      <td>23.00</td>\n",
       "      <td>3.00</td>\n",
       "      <td>186.00</td>\n",
       "      <td>3.00</td>\n",
       "      <td>0.00</td>\n",
       "      <td>0.00</td>\n",
       "      <td>0.00</td>\n",
       "      <td>0.00</td>\n",
       "    </tr>\n",
       "    <tr>\n",
       "      <th>max</th>\n",
       "      <td>2362.00</td>\n",
       "      <td>10960.00</td>\n",
       "      <td>1260.00</td>\n",
       "      <td>4315.00</td>\n",
       "      <td>421.00</td>\n",
       "      <td>278.00</td>\n",
       "      <td>102.00</td>\n",
       "      <td>46.00</td>\n",
       "      <td>31.00</td>\n",
       "    </tr>\n",
       "  </tbody>\n",
       "</table>\n",
       "</div>"
      ],
      "text/plain": [
       "       status_id  num_comments  num_shares  num_likes  num_loves  num_wows  num_hahas  num_sads  num_angrys\n",
       "count    2362.00       2362.00     2362.00    2362.00    2362.00   2362.00    2362.00   2362.00     2362.00\n",
       "mean     1181.50        233.73       39.82     221.15      12.83      1.28       0.74      0.26        0.12\n",
       "std       681.99        856.36      123.78     467.31      41.00      8.72       4.11      1.84        0.90\n",
       "min         1.00          0.00        0.00       0.00       0.00      0.00       0.00      0.00        0.00\n",
       "25%       591.25          0.00        0.00      17.00       0.00      0.00       0.00      0.00        0.00\n",
       "50%      1181.50          4.00        0.00      57.00       0.00      0.00       0.00      0.00        0.00\n",
       "75%      1771.75         23.00        3.00     186.00       3.00      0.00       0.00      0.00        0.00\n",
       "max      2362.00      10960.00     1260.00    4315.00     421.00    278.00     102.00     46.00       31.00"
      ]
     },
     "execution_count": 4,
     "metadata": {},
     "output_type": "execute_result"
    }
   ],
   "source": [
    "# descriptive statistics about each numeric column\n",
    "facebook.describe(include = 'number').round(decimals = 2)"
   ]
  },
  {
   "cell_type": "code",
   "execution_count": 5,
   "id": "de85ffaa",
   "metadata": {},
   "outputs": [
    {
     "name": "stdout",
     "output_type": "stream",
     "text": [
      "Status Type\n",
      "-------\n",
      "status_type\n",
      "photo    1443\n",
      "video     763\n",
      "text      156\n",
      "\n"
     ]
    }
   ],
   "source": [
    "# value counts for channel and region\n",
    "print(f\"\"\"\\\n",
    "Status Type\n",
    "-------\n",
    "{facebook['status_type'].value_counts(normalize=False).to_string(buf=None)}\n",
    "\"\"\")"
   ]
  },
  {
   "cell_type": "markdown",
   "id": "f724a4a9",
   "metadata": {},
   "source": [
    "<h3> Visualization </h3>"
   ]
  },
  {
   "cell_type": "code",
   "execution_count": 6,
   "id": "b5b57d23",
   "metadata": {},
   "outputs": [],
   "source": [
    "# Extracting year from the 'time_published' column\n",
    "facebook['year'] = facebook['time_published'].dt.year\n",
    "\n",
    "# Creating one-hot encoded variables for each year\n",
    "year_dummies = pd.get_dummies(facebook['year'], prefix='year')\n",
    "\n",
    "# Concatenating these new columns to the original dataframe\n",
    "facebook = pd.concat([facebook, year_dummies], axis=1)\n",
    "\n",
    "facebook['year_2017'] = facebook['year_2017'].astype(int)\n",
    "facebook['year_2019'] = facebook['year_2019'].astype(int)\n",
    "facebook['year_2020'] = facebook['year_2020'].astype(int)\n",
    "facebook['year_2023'] = facebook['year_2023'].astype(int)"
   ]
  },
  {
   "cell_type": "code",
   "execution_count": 7,
   "id": "dece0fea",
   "metadata": {},
   "outputs": [],
   "source": [
    "# Filter for the year\n",
    "data_2017 = facebook[facebook['year'] == 2017]\n",
    "data_2019 = facebook[facebook['year'] == 2019]\n",
    "data_2020 = facebook[facebook['year'] == 2020]\n",
    "data_2023 = facebook[facebook['year'] == 2023]\n"
   ]
  },
  {
   "cell_type": "code",
   "execution_count": 8,
   "id": "8bb61be5",
   "metadata": {
    "cell_style": "split"
   },
   "outputs": [
    {
     "data": {
      "image/png": "[encoded data removed]",
      "text/plain": [
       "<Figure size 640x480 with 1 Axes>"
      ]
     },
     "metadata": {},
     "output_type": "display_data"
    }
   ],
   "source": [
    "# including columns for the graph\n",
    "reacts = ['num_comments', 'num_shares', 'num_likes', 'num_loves', \n",
    "                  'num_wows', 'num_hahas', 'num_sads', 'num_angrys']\n",
    "\n",
    "engagement_2017 = data_2017.groupby('status_type')[reacts].sum()\n",
    "\n",
    "# Plotting a bar chart for the summed engagement metrics\n",
    "engagement_2017.plot(kind='bar', stacked=False)\n",
    "plt.title('Engagement Types by Content Type in 2017')\n",
    "plt.xlabel('Content Type')\n",
    "plt.ylabel('Number of Reactions')\n",
    "plt.legend(title='Reaction Types')\n",
    "plt.show()"
   ]
  },
  {
   "cell_type": "code",
   "execution_count": 9,
   "id": "565d80e8",
   "metadata": {
    "cell_style": "split"
   },
   "outputs": [
    {
     "data": {
      "image/png": "[encoded data removed]",
      "text/plain": [
       "<Figure size 640x480 with 1 Axes>"
      ]
     },
     "metadata": {},
     "output_type": "display_data"
    }
   ],
   "source": [
    "# including columns for the graph\n",
    "reacts = ['num_comments', 'num_shares', 'num_likes', 'num_loves', \n",
    "                  'num_wows', 'num_hahas', 'num_sads', 'num_angrys']\n",
    "\n",
    "engagement_2019 = data_2019.groupby('status_type')[reacts].sum()\n",
    "\n",
    "# Plotting a bar chart for the summed engagement metrics\n",
    "engagement_2019.plot(kind='bar', stacked=False)\n",
    "plt.title('Engagement Types by Content Type in 2019')\n",
    "plt.xlabel('Content Type')\n",
    "plt.ylabel('Number of Reactions')\n",
    "plt.legend(title='Reaction Types')\n",
    "plt.show()"
   ]
  },
  {
   "cell_type": "markdown",
   "id": "11e219ca",
   "metadata": {},
   "source": [
    "    "
   ]
  },
  {
   "cell_type": "code",
   "execution_count": 10,
   "id": "a9519295",
   "metadata": {
    "cell_style": "split"
   },
   "outputs": [
    {
     "data": {
      "image/png": "[encoded data removed]",
      "text/plain": [
       "<Figure size 640x480 with 1 Axes>"
      ]
     },
     "metadata": {},
     "output_type": "display_data"
    }
   ],
   "source": [
    "# including columns for the graph\n",
    "reacts = ['num_comments', 'num_shares', 'num_likes', 'num_loves', \n",
    "                  'num_wows', 'num_hahas', 'num_sads', 'num_angrys']\n",
    "\n",
    "engagement_2020 = data_2020.groupby('status_type')[reacts].sum()\n",
    "\n",
    "# Plotting a bar chart for the summed engagement metrics\n",
    "engagement_2020.plot(kind='bar', stacked=False)\n",
    "plt.title('Engagement Types by Content Type in 2020')\n",
    "plt.xlabel('Content Type')\n",
    "plt.ylabel('Number of Reactions')\n",
    "plt.legend(title='Reaction Types')\n",
    "plt.show()"
   ]
  },
  {
   "cell_type": "code",
   "execution_count": 11,
   "id": "575af2ce",
   "metadata": {
    "cell_style": "split"
   },
   "outputs": [
    {
     "data": {
      "image/png": "[encoded data removed]",
      "text/plain": [
       "<Figure size 640x480 with 1 Axes>"
      ]
     },
     "metadata": {},
     "output_type": "display_data"
    }
   ],
   "source": [
    "# including columns for the graph\n",
    "reacts = ['num_comments', 'num_shares', 'num_likes', 'num_loves', \n",
    "                  'num_wows', 'num_hahas', 'num_sads', 'num_angrys']\n",
    "\n",
    "engagement_2023 = data_2023.groupby('status_type')[reacts].sum()\n",
    "\n",
    "# Plotting a bar chart for the summed engagement metrics\n",
    "engagement_2023.plot(kind='bar', stacked=False)\n",
    "plt.title('Engagement Types by Content Type in 2023')\n",
    "plt.xlabel('Content Type')\n",
    "plt.ylabel('Number of Reactions')\n",
    "plt.legend(title='Reaction Types')\n",
    "plt.show()"
   ]
  },
  {
   "cell_type": "markdown",
   "id": "a9a5a0bd",
   "metadata": {},
   "source": [
    "The analyst created four charts for the years 2017, 2019, 2020, and 2023. These were created to analyze trends from the earliest year in the dataset (2017), to understand Facebook post engagement before the pandemic (2019), to examine data at the peak of the pandemic (2020), and to assess recent trends (2023).\n",
    "\n",
    "In 2017, the data consisted only of photos as the content type. According to a 2017 BCG article, Thailand had developed a social media model for online sales. Social media commerce accounted for more than 40% of online sales in categories such as phones and accessories, cosmetics, and clothing, indicating that online selling was significant that year. It can also be perceived that photos posted likely included images of products, along with prices and available sizes either on the photo itself or in the captions.\n",
    "\n",
    "The analyst was curious in the data of 2019, because she wants to see the trend or behavior of the engagements on Facebook before the pandemic. In the given data, it is obvious that video content has more engagement than the photo. Norcross (2019) wrote that the video content earned the largest audience engagement rate on Facebook, followed by photo-based posts. Facebook Messenger was the most downloaded application for mobile phones in Thailand, with Facebook itself in third place. It can be inferred that people direct to Messenger instead of engaging through the photo posts.\n",
    "\n",
    "In 2020, photos garnered more engagement than videos and texts. The analyst hypothesizes that the lower video engagement might be due to people staying at home, where creating live content typically requires a team. Zhenhub (2020) discussed how eCommerce platforms are attracted to Thailand's expanding online shopping sector. Business owners have launched online stores across various marketplaces to cater to local demands, selling on platforms like Lazada and Shopee. This trend supports the analyst's assumption that photos performed better, because sellers uploaded more photos.\n",
    "\n",
    "Live Selling was more popular than other content types in 2023. Live streaming engagement has been one of the main drivers of ecommerce. Due to the evolution of social media, buyer have been more meticulous in choosing the products they are purchasing. Sellers can showcase their products in real-time, provide product details and payment options and interact with existing and potential customers directly from their live broadcast. Buying from a live seller is like buying from malls but in a more convenient way.\n"
   ]
  },
  {
   "cell_type": "code",
   "execution_count": 12,
   "id": "e8daa429",
   "metadata": {},
   "outputs": [],
   "source": [
    "# dropping these features. i just used it for Question 2 purposes\n",
    "facebook = facebook.drop(labels   = ['year', 'year_2017', 'year_2018', 'year_2019', \n",
    "                                     'year_2020', 'year_2021', 'year_2022', 'year_2023'],\n",
    "                       axis   = 1)"
   ]
  },
  {
   "cell_type": "markdown",
   "id": "2b9e4811",
   "metadata": {},
   "source": [
    "          "
   ]
  },
  {
   "cell_type": "code",
   "execution_count": 13,
   "id": "f79a8a5c",
   "metadata": {
    "scrolled": false
   },
   "outputs": [
    {
     "name": "stderr",
     "output_type": "stream",
     "text": [
      "/Users/kimberly/anaconda3/lib/python3.11/site-packages/seaborn/_oldcore.py:1498: FutureWarning: is_categorical_dtype is deprecated and will be removed in a future version. Use isinstance(dtype, CategoricalDtype) instead\n",
      "  if pd.api.types.is_categorical_dtype(vector):\n",
      "/Users/kimberly/anaconda3/lib/python3.11/site-packages/seaborn/_oldcore.py:1119: FutureWarning: use_inf_as_na option is deprecated and will be removed in a future version. Convert inf values to NaN before operating instead.\n",
      "  with pd.option_context('mode.use_inf_as_na', True):\n",
      "/Users/kimberly/anaconda3/lib/python3.11/site-packages/seaborn/_oldcore.py:1498: FutureWarning: is_categorical_dtype is deprecated and will be removed in a future version. Use isinstance(dtype, CategoricalDtype) instead\n",
      "  if pd.api.types.is_categorical_dtype(vector):\n",
      "/Users/kimberly/anaconda3/lib/python3.11/site-packages/seaborn/_oldcore.py:1498: FutureWarning: is_categorical_dtype is deprecated and will be removed in a future version. Use isinstance(dtype, CategoricalDtype) instead\n",
      "  if pd.api.types.is_categorical_dtype(vector):\n",
      "/Users/kimberly/anaconda3/lib/python3.11/site-packages/seaborn/_oldcore.py:1119: FutureWarning: use_inf_as_na option is deprecated and will be removed in a future version. Convert inf values to NaN before operating instead.\n",
      "  with pd.option_context('mode.use_inf_as_na', True):\n",
      "/Users/kimberly/anaconda3/lib/python3.11/site-packages/seaborn/_oldcore.py:1498: FutureWarning: is_categorical_dtype is deprecated and will be removed in a future version. Use isinstance(dtype, CategoricalDtype) instead\n",
      "  if pd.api.types.is_categorical_dtype(vector):\n",
      "/Users/kimberly/anaconda3/lib/python3.11/site-packages/seaborn/_oldcore.py:1119: FutureWarning: use_inf_as_na option is deprecated and will be removed in a future version. Convert inf values to NaN before operating instead.\n",
      "  with pd.option_context('mode.use_inf_as_na', True):\n",
      "/Users/kimberly/anaconda3/lib/python3.11/site-packages/seaborn/_oldcore.py:1498: FutureWarning: is_categorical_dtype is deprecated and will be removed in a future version. Use isinstance(dtype, CategoricalDtype) instead\n",
      "  if pd.api.types.is_categorical_dtype(vector):\n",
      "/Users/kimberly/anaconda3/lib/python3.11/site-packages/seaborn/_oldcore.py:1119: FutureWarning: use_inf_as_na option is deprecated and will be removed in a future version. Convert inf values to NaN before operating instead.\n",
      "  with pd.option_context('mode.use_inf_as_na', True):\n",
      "/Users/kimberly/anaconda3/lib/python3.11/site-packages/seaborn/_oldcore.py:1498: FutureWarning: is_categorical_dtype is deprecated and will be removed in a future version. Use isinstance(dtype, CategoricalDtype) instead\n",
      "  if pd.api.types.is_categorical_dtype(vector):\n",
      "/Users/kimberly/anaconda3/lib/python3.11/site-packages/seaborn/_oldcore.py:1119: FutureWarning: use_inf_as_na option is deprecated and will be removed in a future version. Convert inf values to NaN before operating instead.\n",
      "  with pd.option_context('mode.use_inf_as_na', True):\n",
      "/Users/kimberly/anaconda3/lib/python3.11/site-packages/seaborn/_oldcore.py:1498: FutureWarning: is_categorical_dtype is deprecated and will be removed in a future version. Use isinstance(dtype, CategoricalDtype) instead\n",
      "  if pd.api.types.is_categorical_dtype(vector):\n",
      "/Users/kimberly/anaconda3/lib/python3.11/site-packages/seaborn/_oldcore.py:1119: FutureWarning: use_inf_as_na option is deprecated and will be removed in a future version. Convert inf values to NaN before operating instead.\n",
      "  with pd.option_context('mode.use_inf_as_na', True):\n",
      "/Users/kimberly/anaconda3/lib/python3.11/site-packages/seaborn/_oldcore.py:1498: FutureWarning: is_categorical_dtype is deprecated and will be removed in a future version. Use isinstance(dtype, CategoricalDtype) instead\n",
      "  if pd.api.types.is_categorical_dtype(vector):\n",
      "/Users/kimberly/anaconda3/lib/python3.11/site-packages/seaborn/_oldcore.py:1119: FutureWarning: use_inf_as_na option is deprecated and will be removed in a future version. Convert inf values to NaN before operating instead.\n",
      "  with pd.option_context('mode.use_inf_as_na', True):\n",
      "/Users/kimberly/anaconda3/lib/python3.11/site-packages/seaborn/_oldcore.py:1498: FutureWarning: is_categorical_dtype is deprecated and will be removed in a future version. Use isinstance(dtype, CategoricalDtype) instead\n",
      "  if pd.api.types.is_categorical_dtype(vector):\n",
      "/Users/kimberly/anaconda3/lib/python3.11/site-packages/seaborn/_oldcore.py:1119: FutureWarning: use_inf_as_na option is deprecated and will be removed in a future version. Convert inf values to NaN before operating instead.\n",
      "  with pd.option_context('mode.use_inf_as_na', True):\n",
      "/Users/kimberly/anaconda3/lib/python3.11/site-packages/seaborn/_oldcore.py:1498: FutureWarning: is_categorical_dtype is deprecated and will be removed in a future version. Use isinstance(dtype, CategoricalDtype) instead\n",
      "  if pd.api.types.is_categorical_dtype(vector):\n",
      "/Users/kimberly/anaconda3/lib/python3.11/site-packages/seaborn/_oldcore.py:1119: FutureWarning: use_inf_as_na option is deprecated and will be removed in a future version. Convert inf values to NaN before operating instead.\n",
      "  with pd.option_context('mode.use_inf_as_na', True):\n",
      "/Users/kimberly/anaconda3/lib/python3.11/site-packages/seaborn/_oldcore.py:1498: FutureWarning: is_categorical_dtype is deprecated and will be removed in a future version. Use isinstance(dtype, CategoricalDtype) instead\n",
      "  if pd.api.types.is_categorical_dtype(vector):\n",
      "/Users/kimberly/anaconda3/lib/python3.11/site-packages/seaborn/_oldcore.py:1119: FutureWarning: use_inf_as_na option is deprecated and will be removed in a future version. Convert inf values to NaN before operating instead.\n",
      "  with pd.option_context('mode.use_inf_as_na', True):\n",
      "/Users/kimberly/anaconda3/lib/python3.11/site-packages/seaborn/_oldcore.py:1498: FutureWarning: is_categorical_dtype is deprecated and will be removed in a future version. Use isinstance(dtype, CategoricalDtype) instead\n",
      "  if pd.api.types.is_categorical_dtype(vector):\n",
      "/Users/kimberly/anaconda3/lib/python3.11/site-packages/seaborn/_oldcore.py:1119: FutureWarning: use_inf_as_na option is deprecated and will be removed in a future version. Convert inf values to NaN before operating instead.\n",
      "  with pd.option_context('mode.use_inf_as_na', True):\n"
     ]
    },
    {
     "data": {
      "image/png": "[encoded data removed]",
      "text/plain": [
       "<Figure size 1600x1200 with 11 Axes>"
      ]
     },
     "metadata": {},
     "output_type": "display_data"
    }
   ],
   "source": [
    "# setting figure size\n",
    "fig, ax = plt.subplots(figsize = (16, 12))\n",
    "ax.remove()\n",
    "\n",
    "# initializing a counter\n",
    "count = 0\n",
    "\n",
    "\n",
    "# looping to create visualizations\n",
    "for col in facebook:\n",
    "\n",
    "    # condition to break\n",
    "    if count == 30:\n",
    "        break\n",
    "    \n",
    "    # increasing count\n",
    "    count += 1\n",
    "    \n",
    "    # preparing histograms\n",
    "    plt.subplot(8, 4, count)\n",
    "    sns.histplot(x = facebook[col],)\n",
    "\n",
    "\n",
    "# formatting, saving, and displaying the plot\n",
    "plt.tight_layout()\n",
    "plt.show()"
   ]
  },
  {
   "cell_type": "markdown",
   "id": "54fe761f",
   "metadata": {},
   "source": [
    "<h3> Scaling </h3>"
   ]
  },
  {
   "cell_type": "code",
   "execution_count": 14,
   "id": "9d2cb14a",
   "metadata": {},
   "outputs": [
    {
     "name": "stdout",
     "output_type": "stream",
     "text": [
      "num_comments    733040.526533\n",
      "num_shares       15315.110634\n",
      "num_likes       218288.813477\n",
      "num_loves         1680.086166\n",
      "num_wows            75.978259\n",
      "num_hahas           16.896863\n",
      "num_sads             3.392409\n",
      "num_angrys           0.817271\n",
      "dtype: float64 \n",
      "\n",
      "\n",
      "num_comments    1.0\n",
      "num_shares      1.0\n",
      "num_likes       1.0\n",
      "num_loves       1.0\n",
      "num_wows        1.0\n",
      "num_hahas       1.0\n",
      "num_sads        1.0\n",
      "num_angrys      1.0\n",
      "dtype: float64\n"
     ]
    },
    {
     "name": "stderr",
     "output_type": "stream",
     "text": [
      "/Users/kimberly/anaconda3/lib/python3.11/site-packages/numpy/core/fromnumeric.py:3745: FutureWarning: The behavior of DataFrame.var with axis=None is deprecated, in a future version this will reduce over both axes and return a scalar. To retain the old behavior, pass axis=0 (or do not pass axis)\n",
      "  return var(axis=axis, dtype=dtype, out=out, ddof=ddof, **kwargs)\n"
     ]
    }
   ],
   "source": [
    "# dropping demographic information\n",
    "facebook = facebook.drop(['status_id', 'status_type', 'time_published'],\n",
    "                                      axis = 1)\n",
    "\n",
    "# scaling (normalizing) variables before correlation analysis\n",
    "fb_scaled = scaler(df = facebook)\n",
    "\n",
    "\n",
    "# checking pre- and post-scaling variance\n",
    "print(np.var(facebook), '\\n\\n')\n",
    "print(np.var(fb_scaled))"
   ]
  },
  {
   "cell_type": "markdown",
   "id": "0d988c33",
   "metadata": {},
   "source": [
    "<h2> Principal Component Analysis </h2>"
   ]
  },
  {
   "cell_type": "code",
   "execution_count": 15,
   "id": "a8614f27",
   "metadata": {},
   "outputs": [
    {
     "data": {
      "image/png": "[encoded data removed]",
      "text/plain": [
       "<Figure size 1000x800 with 1 Axes>"
      ]
     },
     "metadata": {},
     "output_type": "display_data"
    }
   ],
   "source": [
    "# INSTANTIATING a PCA object with no limit to principal components\n",
    "pca = PCA(n_components = None,\n",
    "          random_state = 702)\n",
    "\n",
    "\n",
    "# FITTING and TRANSFORMING the purchases_scaled\n",
    "fb_pca = pca.fit_transform(fb_scaled)\n",
    "\n",
    "\n",
    "# calling the scree_plot function\n",
    "scree_plot(pca_object = pca)"
   ]
  },
  {
   "cell_type": "code",
   "execution_count": 16,
   "id": "729aa7b0",
   "metadata": {},
   "outputs": [],
   "source": [
    "# INSTANTIATING a new model using the first two principal components\n",
    "pca_2 = PCA(n_components = 2,\n",
    "            random_state = 702)\n",
    "\n",
    "\n",
    "# FITTING and TRANSFORMING the purchases_scaled\n",
    "customer_pca_2 = pca_2.fit_transform(fb_scaled)\n",
    "\n",
    "# tried to retain three, just to see the result"
   ]
  },
  {
   "cell_type": "code",
   "execution_count": 17,
   "id": "e249f615",
   "metadata": {},
   "outputs": [
    {
     "name": "stdout",
     "output_type": "stream",
     "text": [
      "\n",
      "MAX Components Factor Loadings\n",
      "------------------------------\n",
      "                 0     1     2     3     4     5     6     7\n",
      "num_comments  0.41 -0.31 -0.03 -0.20 -0.39 -0.18  0.67 -0.24\n",
      "num_shares    0.49 -0.12  0.05 -0.17 -0.21 -0.22 -0.33  0.71\n",
      "num_likes     0.16  0.73 -0.35  0.25 -0.49  0.11  0.05  0.00\n",
      "num_loves     0.50  0.00  0.06 -0.08  0.01 -0.06 -0.56 -0.65\n",
      "num_wows      0.30  0.48  0.08 -0.08  0.64 -0.42  0.29  0.04\n",
      "num_hahas     0.37  0.01 -0.05 -0.20  0.28  0.84  0.14  0.12\n",
      "num_sads      0.20 -0.35 -0.68  0.54  0.27 -0.09 -0.01  0.03\n",
      "num_angrys    0.22 -0.04  0.63  0.72 -0.04  0.11  0.11  0.04\n",
      "\n",
      "\n",
      "2 Components Factor Loadings\n",
      "------------------------------\n",
      "                 0     1\n",
      "num_comments  0.41 -0.31\n",
      "num_shares    0.49 -0.12\n",
      "num_likes     0.16  0.73\n",
      "num_loves     0.50  0.00\n",
      "num_wows      0.30  0.48\n",
      "num_hahas     0.37  0.01\n",
      "num_sads      0.20 -0.35\n",
      "num_angrys    0.22 -0.04\n",
      "\n"
     ]
    }
   ],
   "source": [
    "####################\n",
    "### Max PC Model ###\n",
    "####################\n",
    "# transposing pca components (pc = MAX)\n",
    "factor_loadings = pd.DataFrame(np.transpose(pca.components_))\n",
    "\n",
    "\n",
    "# naming rows as original features\n",
    "factor_loadings = factor_loadings.set_index(fb_scaled.columns)\n",
    "\n",
    "\n",
    "##################\n",
    "### 2 PC Model ###\n",
    "##################\n",
    "# transposing pca components (pc = 3)\n",
    "factor_loadings_2 = pd.DataFrame(np.transpose(pca_2.components_))\n",
    "\n",
    "\n",
    "# naming rows as original features\n",
    "factor_loadings_2 = factor_loadings_2.set_index(fb_scaled.columns)\n",
    "\n",
    "\n",
    "# checking the results\n",
    "print(f\"\"\"\n",
    "MAX Components Factor Loadings\n",
    "------------------------------\n",
    "{factor_loadings.round(2)}\n",
    "\n",
    "\n",
    "2 Components Factor Loadings\n",
    "------------------------------\n",
    "{factor_loadings_2.round(2)}\n",
    "\"\"\")"
   ]
  },
  {
   "cell_type": "code",
   "execution_count": 18,
   "id": "21463503",
   "metadata": {},
   "outputs": [
    {
     "data": {
      "text/html": [
       "<div>\n",
       "<style scoped>\n",
       "    .dataframe tbody tr th:only-of-type {\n",
       "        vertical-align: middle;\n",
       "    }\n",
       "\n",
       "    .dataframe tbody tr th {\n",
       "        vertical-align: top;\n",
       "    }\n",
       "\n",
       "    .dataframe thead th {\n",
       "        text-align: right;\n",
       "    }\n",
       "</style>\n",
       "<table border=\"1\" class=\"dataframe\">\n",
       "  <thead>\n",
       "    <tr style=\"text-align: right;\">\n",
       "      <th></th>\n",
       "      <th>Engagement</th>\n",
       "      <th>Reacts</th>\n",
       "    </tr>\n",
       "  </thead>\n",
       "  <tbody>\n",
       "    <tr>\n",
       "      <th>num_comments</th>\n",
       "      <td>0.41</td>\n",
       "      <td>-0.31</td>\n",
       "    </tr>\n",
       "    <tr>\n",
       "      <th>num_shares</th>\n",
       "      <td>0.49</td>\n",
       "      <td>-0.12</td>\n",
       "    </tr>\n",
       "    <tr>\n",
       "      <th>num_likes</th>\n",
       "      <td>0.16</td>\n",
       "      <td>0.73</td>\n",
       "    </tr>\n",
       "    <tr>\n",
       "      <th>num_loves</th>\n",
       "      <td>0.50</td>\n",
       "      <td>0.00</td>\n",
       "    </tr>\n",
       "    <tr>\n",
       "      <th>num_wows</th>\n",
       "      <td>0.30</td>\n",
       "      <td>0.48</td>\n",
       "    </tr>\n",
       "    <tr>\n",
       "      <th>num_hahas</th>\n",
       "      <td>0.37</td>\n",
       "      <td>0.01</td>\n",
       "    </tr>\n",
       "    <tr>\n",
       "      <th>num_sads</th>\n",
       "      <td>0.20</td>\n",
       "      <td>-0.35</td>\n",
       "    </tr>\n",
       "    <tr>\n",
       "      <th>num_angrys</th>\n",
       "      <td>0.22</td>\n",
       "      <td>-0.04</td>\n",
       "    </tr>\n",
       "  </tbody>\n",
       "</table>\n",
       "</div>"
      ],
      "text/plain": [
       "              Engagement  Reacts\n",
       "num_comments        0.41   -0.31\n",
       "num_shares          0.49   -0.12\n",
       "num_likes           0.16    0.73\n",
       "num_loves           0.50    0.00\n",
       "num_wows            0.30    0.48\n",
       "num_hahas           0.37    0.01\n",
       "num_sads            0.20   -0.35\n",
       "num_angrys          0.22   -0.04"
      ]
     },
     "execution_count": 18,
     "metadata": {},
     "output_type": "execute_result"
    }
   ],
   "source": [
    "# naming each principal component\n",
    "factor_loadings_2.columns = ['Engagement', \n",
    "                             'Reacts',     \n",
    "                             ]  \n",
    "\n",
    "\n",
    "# checking the result\n",
    "factor_loadings_2.round(decimals = 2)"
   ]
  },
  {
   "cell_type": "markdown",
   "id": "1a584291",
   "metadata": {},
   "source": [
    "<h4> Develop a scree plot and determine how many principal components you would like to retain. Draw a vertical line in the scree plot to indicate your cutoff point. Explain your rationale. (minimum 5 sentences)\n",
    "    \n",
    "Interpret each of your retained principal components. Remember to interpret both sides of each principal component. (minimum 5 sentences per principal component)</h4>\n",
    "\n",
    "By narrowing the data down to two components, the analysis could be simplified by reducing the dimensions of the dataset which can be useful with the large number of metrics. The first two principal components usually capture the most significant variance within the dataset. It is likely to emphasize the most critical engagement trends in the data.\n",
    "\n",
    "Suppose the first 2 principal components represent significant engagement actions like likes and shares, it can indicate that focusing on increasing these specific reactions could have the most impact on overall engagement for photos. Understanding which types of engagement are most significant for photo content can help tailor campaigns. Businesses can time their content releases to align with different patterns, posting certain types of photo content when it's most likely to receive the desired engagement.\n",
    "\n",
    "First Principal likely captures the most common  pattern of engagement across all Facebook posts. It may indicate that photos are among the most engaging content types, it might be heavily influenced by the metrics associated with photos. The largest loadings are for num_shares, num_loves, and num_comments, suggesting this component may represent overall engagement, hence the name 'Engagement'. If it represents overall engagement, strategies that aim to increase general reactions like shares and loves should be prioritized. If sellers are seeking to boost overall engagement, focus on factors contributing to the First Principal.\n",
    "\n",
    "\n",
    "Second Principal might represent the variance in how much content is shared. The analyst chose to only have 2 components as she believes these are the most informative. It has a high positive loading with num_likes and moderate with num_wows, which could be interpreted as a measure of positive sentiment, that's why it's 'Reacts'. The content that receives many likes should be emphasized. Posts with high 'likes' might be considered as appealing or attractive, prompting a quick and positive reaction from users. Posts that are enjoyable or positive often garners a lot of likes, as users can express their approval with a simple click.  A negative loading for 'num_comments' might imply that content with many likes does not necessarily provoke a lot of comments.\n",
    "\n",
    "\n",
    " In the Third Principal, it was not included because it did not give the analyst enough information to interpret. It can have a good insight, but the analyst decided not to include it. It is still worth to mention that num_sads has a strong negative loading in the Third Principal, this might represent that this reactions are less frequent. \n",
    "\n",
    "The analyst also tried to do 3 components in the first try but it seems that it did not make a difference."
   ]
  },
  {
   "cell_type": "code",
   "execution_count": 19,
   "id": "68c8c0e1",
   "metadata": {},
   "outputs": [
    {
     "data": {
      "text/html": [
       "<div>\n",
       "<style scoped>\n",
       "    .dataframe tbody tr th:only-of-type {\n",
       "        vertical-align: middle;\n",
       "    }\n",
       "\n",
       "    .dataframe tbody tr th {\n",
       "        vertical-align: top;\n",
       "    }\n",
       "\n",
       "    .dataframe thead th {\n",
       "        text-align: right;\n",
       "    }\n",
       "</style>\n",
       "<table border=\"1\" class=\"dataframe\">\n",
       "  <thead>\n",
       "    <tr style=\"text-align: right;\">\n",
       "      <th></th>\n",
       "      <th>Engagement</th>\n",
       "      <th>Reacts</th>\n",
       "    </tr>\n",
       "  </thead>\n",
       "  <tbody>\n",
       "    <tr>\n",
       "      <th>0</th>\n",
       "      <td>-0.619670</td>\n",
       "      <td>-0.006476</td>\n",
       "    </tr>\n",
       "    <tr>\n",
       "      <th>1</th>\n",
       "      <td>-0.469623</td>\n",
       "      <td>0.126667</td>\n",
       "    </tr>\n",
       "    <tr>\n",
       "      <th>2</th>\n",
       "      <td>-0.469004</td>\n",
       "      <td>0.125796</td>\n",
       "    </tr>\n",
       "    <tr>\n",
       "      <th>3</th>\n",
       "      <td>0.367677</td>\n",
       "      <td>0.240069</td>\n",
       "    </tr>\n",
       "    <tr>\n",
       "      <th>4</th>\n",
       "      <td>-0.019679</td>\n",
       "      <td>-0.278149</td>\n",
       "    </tr>\n",
       "  </tbody>\n",
       "</table>\n",
       "</div>"
      ],
      "text/plain": [
       "   Engagement    Reacts\n",
       "0   -0.619670 -0.006476\n",
       "1   -0.469623  0.126667\n",
       "2   -0.469004  0.125796\n",
       "3    0.367677  0.240069\n",
       "4   -0.019679 -0.278149"
      ]
     },
     "execution_count": 19,
     "metadata": {},
     "output_type": "execute_result"
    }
   ],
   "source": [
    "# analyzing factor strengths per customer\n",
    "factor_loadings = pca_2.transform(fb_scaled)\n",
    "\n",
    "\n",
    "# converting to a DataFrame\n",
    "factor_loadings_df = pd.DataFrame(factor_loadings)\n",
    "\n",
    "\n",
    "# renaming columns\n",
    "factor_loadings_df.columns = factor_loadings_2.columns\n",
    "\n",
    "\n",
    "# checking the results\n",
    "factor_loadings_df.head(n = 5)"
   ]
  },
  {
   "cell_type": "markdown",
   "id": "defa8118",
   "metadata": {},
   "source": [
    "<h2> Intro to Clustering </h2>"
   ]
  },
  {
   "cell_type": "code",
   "execution_count": 20,
   "id": "53a5fa4d",
   "metadata": {},
   "outputs": [
    {
     "name": "stderr",
     "output_type": "stream",
     "text": [
      "/Users/kimberly/anaconda3/lib/python3.11/site-packages/numpy/core/fromnumeric.py:3745: FutureWarning: The behavior of DataFrame.var with axis=None is deprecated, in a future version this will reduce over both axes and return a scalar. To retain the old behavior, pass axis=0 (or do not pass axis)\n",
      "  return var(axis=axis, dtype=dtype, out=out, ddof=ddof, **kwargs)\n"
     ]
    },
    {
     "data": {
      "text/plain": [
       "Engagement    3.273609\n",
       "Reacts        1.025052\n",
       "dtype: float64"
      ]
     },
     "execution_count": 20,
     "metadata": {},
     "output_type": "execute_result"
    }
   ],
   "source": [
    "# checking variance amongst clusters\n",
    "np.var(factor_loadings_df)"
   ]
  },
  {
   "cell_type": "code",
   "execution_count": 21,
   "id": "f98ecb4d",
   "metadata": {},
   "outputs": [
    {
     "name": "stdout",
     "output_type": "stream",
     "text": [
      "Engagement    3.273609\n",
      "Reacts        1.025052\n",
      "dtype: float64 \n",
      "\n",
      "\n",
      "Engagement    1.0\n",
      "Reacts        1.0\n",
      "dtype: float64\n"
     ]
    },
    {
     "name": "stderr",
     "output_type": "stream",
     "text": [
      "/Users/kimberly/anaconda3/lib/python3.11/site-packages/numpy/core/fromnumeric.py:3745: FutureWarning: The behavior of DataFrame.var with axis=None is deprecated, in a future version this will reduce over both axes and return a scalar. To retain the old behavior, pass axis=0 (or do not pass axis)\n",
      "  return var(axis=axis, dtype=dtype, out=out, ddof=ddof, **kwargs)\n"
     ]
    }
   ],
   "source": [
    "# applying the unsupervised_scaler function\n",
    "pca_rescaled = scaler(df = factor_loadings_df)\n",
    "\n",
    "\n",
    "# checking pre- and post-scaling variance\n",
    "print(np.var(factor_loadings_df), '\\n\\n')\n",
    "print(np.var(pca_rescaled))"
   ]
  },
  {
   "cell_type": "markdown",
   "id": "deba77e4",
   "metadata": {},
   "source": [
    "<h2>Agglomerative Clustering</h2>"
   ]
  },
  {
   "cell_type": "code",
   "execution_count": 22,
   "id": "dbcab4ca",
   "metadata": {},
   "outputs": [
    {
     "data": {
      "image/png": "[encoded data removed]",
      "text/plain": [
       "<Figure size 1200x1200 with 1 Axes>"
      ]
     },
     "metadata": {},
     "output_type": "display_data"
    }
   ],
   "source": [
    "# grouping data based on Ward distance\n",
    "standard_mergings_ward = linkage(y = pca_rescaled,\n",
    "                                 method = 'ward',\n",
    "                                 optimal_ordering = True)\n",
    "\n",
    "\n",
    "# setting plot size\n",
    "fig, ax = plt.subplots(figsize=(12, 12))\n",
    "\n",
    "# developing a dendrogram\n",
    "dendrogram(Z = standard_mergings_ward,\n",
    "           leaf_rotation  = 90       ,\n",
    "           leaf_font_size = 6        )\n",
    "\n",
    "\n",
    "# rendering the plot\n",
    "plt.show()"
   ]
  },
  {
   "cell_type": "code",
   "execution_count": 23,
   "id": "67449ecf",
   "metadata": {},
   "outputs": [
    {
     "name": "stdout",
     "output_type": "stream",
     "text": [
      "Cluster\n",
      "1    2206\n",
      "0     156\n",
      "Name: count, dtype: int64\n"
     ]
    }
   ],
   "source": [
    "# INSTANTIATING a k-Means object with clusters\n",
    "fb_k_pca = KMeans(n_clusters   = 2     ,\n",
    "                         n_init       = 'auto',\n",
    "                         random_state = 702   )\n",
    "\n",
    "\n",
    "# fitting the object to the data\n",
    "fb_k_pca.fit(pca_rescaled)\n",
    "\n",
    "\n",
    "# converting the clusters to a DataFrame\n",
    "fb_kmeans_pca = pd.DataFrame({'Cluster': fb_k_pca.labels_})\n",
    "\n",
    "\n",
    "# checking the results\n",
    "print(fb_kmeans_pca.iloc[: , 0].value_counts())"
   ]
  },
  {
   "cell_type": "code",
   "execution_count": 24,
   "id": "306ceaf2",
   "metadata": {},
   "outputs": [
    {
     "data": {
      "text/html": [
       "<div>\n",
       "<style scoped>\n",
       "    .dataframe tbody tr th:only-of-type {\n",
       "        vertical-align: middle;\n",
       "    }\n",
       "\n",
       "    .dataframe tbody tr th {\n",
       "        vertical-align: top;\n",
       "    }\n",
       "\n",
       "    .dataframe thead th {\n",
       "        text-align: right;\n",
       "    }\n",
       "</style>\n",
       "<table border=\"1\" class=\"dataframe\">\n",
       "  <thead>\n",
       "    <tr style=\"text-align: right;\">\n",
       "      <th></th>\n",
       "      <th>Engagement</th>\n",
       "      <th>Reacts</th>\n",
       "    </tr>\n",
       "  </thead>\n",
       "  <tbody>\n",
       "    <tr>\n",
       "      <th>0</th>\n",
       "      <td>1.18</td>\n",
       "      <td>2.65</td>\n",
       "    </tr>\n",
       "    <tr>\n",
       "      <th>1</th>\n",
       "      <td>-0.08</td>\n",
       "      <td>-0.19</td>\n",
       "    </tr>\n",
       "  </tbody>\n",
       "</table>\n",
       "</div>"
      ],
      "text/plain": [
       "   Engagement  Reacts\n",
       "0        1.18    2.65\n",
       "1       -0.08   -0.19"
      ]
     },
     "execution_count": 24,
     "metadata": {},
     "output_type": "execute_result"
    }
   ],
   "source": [
    "# storing cluster centers\n",
    "centroids_pca = fb_k_pca.cluster_centers_\n",
    "\n",
    "\n",
    "# converting cluster centers into a DataFrame\n",
    "centroids_pca_df = pd.DataFrame(centroids_pca).round(decimals = 2)\n",
    "\n",
    "\n",
    "# renaming principal components\n",
    "centroids_pca_df.columns = ['Engagement', \n",
    "                             'Reacts',     \n",
    "                             ]\n",
    "\n",
    "\n",
    "# checking results (clusters = rows, pc = columns)\n",
    "centroids_pca_df"
   ]
  },
  {
   "cell_type": "code",
   "execution_count": 25,
   "id": "96fe3a96",
   "metadata": {},
   "outputs": [],
   "source": [
    "# i kept on experiencing error whenever i run all of these, whether manually or through run all. \n",
    "# so, to avoid experiencing the error, i am running this again\n",
    "facebook = pd.read_excel(io = '/Users/kimberly/Desktop/AI - A1/facebook_live_data.xlsx')"
   ]
  },
  {
   "cell_type": "code",
   "execution_count": 26,
   "id": "88276a94",
   "metadata": {},
   "outputs": [
    {
     "name": "stdout",
     "output_type": "stream",
     "text": [
      "   status_id status_type      time_published  Cluster  Engagement  Reacts\n",
      "0          1       photo 2023-07-04 22:45:00        1       -0.62   -0.01\n",
      "1          2       photo 2023-06-23 01:01:00        1       -0.47    0.13\n",
      "2          3       photo 2023-06-21 02:23:00        1       -0.47    0.13\n",
      "3          4       video 2023-06-14 05:16:00        1        0.37    0.24\n",
      "4          5       video 2023-06-08 08:28:00        1       -0.02   -0.28\n"
     ]
    }
   ],
   "source": [
    "# concatenating cluster memberships with principal components\n",
    "clst_pca_df = pd.concat([fb_kmeans_pca,\n",
    "                         factor_loadings_df],\n",
    "                         axis = 1)\n",
    "\n",
    "\n",
    "# concatenating demographic information with pca-clusters\n",
    "final_df = pd.concat([facebook.loc[ : , ['status_id', 'status_type', 'time_published']],\n",
    "                      clst_pca_df.round(decimals = 2)],\n",
    "                      axis = 1)\n",
    "\n",
    "\n",
    "# renaming columns\n",
    "final_df.columns = ['status_id', 'status_type', 'time_published', 'Cluster',\n",
    "                    'Engagement', \n",
    "                             'Reacts']\n",
    "\n",
    "\n",
    "# checking the results\n",
    "print(final_df.head(n = 5))"
   ]
  },
  {
   "cell_type": "code",
   "execution_count": 27,
   "id": "52327d2b",
   "metadata": {},
   "outputs": [
    {
     "data": {
      "text/html": [
       "<div>\n",
       "<style scoped>\n",
       "    .dataframe tbody tr th:only-of-type {\n",
       "        vertical-align: middle;\n",
       "    }\n",
       "\n",
       "    .dataframe tbody tr th {\n",
       "        vertical-align: top;\n",
       "    }\n",
       "\n",
       "    .dataframe thead th {\n",
       "        text-align: right;\n",
       "    }\n",
       "</style>\n",
       "<table border=\"1\" class=\"dataframe\">\n",
       "  <thead>\n",
       "    <tr style=\"text-align: right;\">\n",
       "      <th></th>\n",
       "      <th>Cluster</th>\n",
       "      <th>status_type</th>\n",
       "      <th>counts</th>\n",
       "    </tr>\n",
       "  </thead>\n",
       "  <tbody>\n",
       "    <tr>\n",
       "      <th>0</th>\n",
       "      <td>0</td>\n",
       "      <td>photo</td>\n",
       "      <td>72</td>\n",
       "    </tr>\n",
       "    <tr>\n",
       "      <th>1</th>\n",
       "      <td>0</td>\n",
       "      <td>text</td>\n",
       "      <td>26</td>\n",
       "    </tr>\n",
       "    <tr>\n",
       "      <th>2</th>\n",
       "      <td>0</td>\n",
       "      <td>video</td>\n",
       "      <td>58</td>\n",
       "    </tr>\n",
       "    <tr>\n",
       "      <th>3</th>\n",
       "      <td>1</td>\n",
       "      <td>photo</td>\n",
       "      <td>1371</td>\n",
       "    </tr>\n",
       "    <tr>\n",
       "      <th>4</th>\n",
       "      <td>1</td>\n",
       "      <td>text</td>\n",
       "      <td>130</td>\n",
       "    </tr>\n",
       "    <tr>\n",
       "      <th>5</th>\n",
       "      <td>1</td>\n",
       "      <td>video</td>\n",
       "      <td>705</td>\n",
       "    </tr>\n",
       "  </tbody>\n",
       "</table>\n",
       "</div>"
      ],
      "text/plain": [
       "   Cluster status_type  counts\n",
       "0        0       photo      72\n",
       "1        0        text      26\n",
       "2        0       video      58\n",
       "3        1       photo    1371\n",
       "4        1        text     130\n",
       "5        1       video     705"
      ]
     },
     "execution_count": 27,
     "metadata": {},
     "output_type": "execute_result"
    }
   ],
   "source": [
    "# Count the number of each status type within each cluster\n",
    "status_counts = final_df.groupby(['Cluster', 'status_type']).size().reset_index(name='counts')\n",
    "\n",
    "status_counts"
   ]
  },
  {
   "cell_type": "markdown",
   "id": "94f9e4b2",
   "metadata": {},
   "source": [
    "<h4> Decide on an ideal number of clusters and explain your rationale. (minimum 5 sentences)\n",
    "\n",
    "Present and interpret each segment using cluster centroids and give an example of a \"normal\" post for each segment. (minimum 5 sentences per segment)\n",
    "\n",
    "Analyze the status types of each segment and report any findings related to photos. (minimum 5 sentences)\n",
    "</h4>\n",
    "\n",
    "Understanding the difference of Cluster 0 from Cluster 1 could provide strategic insights into content creation. Most of the data points (2,206) fall into Cluster 1, while a smaller number (156) fall into Cluster 0. This suggests Cluster 1 has major segment and has potentially more niche, while Cluster 0 is an outlier segment. The values in centroids_pca_df represent the average location of each cluster by principal components. Cluster 0 has high values for both 'Engagement' and 'Reacts', which suggests that it captures posts with high engagement metrics, while Cluster 1 has lower values. With the time_published column, it can be seen when posts from each cluster were published. This potentially finds temporal patterns. The 'Engagement' and 'Reacts' columns are now associated with each original data point, wherein posts score higher on these components. \n",
    "\n",
    "In Cluster 0, it can be seen that this cluster has a higher proportion of 'photo' status types compared to Cluster 1. With its high 'Engagement' and 'Reacts', could represent a target group for highly engaging content. Given its smaller size, it might include content that is viral. Posts in this cluster are associated with higher overall engagement and stronger reactions from the audience. The posts are likely to stand out in users' feeds and may benefit from increased visibility due to Facebook's algorithms favoring content with high engagement. The content here can be of any type, photo, video, or text, but is distinguished by its ability to draw attention and provoke reactions. A \"normal\" post in this cluster might be a visually striking photo of a major current event that resonates with a large audience. The photo could be accompanied by a compelling caption that encourages sharing and discussion, leading to a high number of 'likes', 'shares', and comments. This post would likely perform well in terms of organic reach and possibly go viral. This post can be a seller's achievement or a seller's POV or BTS. \n",
    "\n",
    "In Cluster 1, the photos might have less representation or show a lower engagement score. It might indicate that while photos are common, they do not always guarantee high engagement. Cluster 1 could represent the 'normal' content engagement, which is where most content falls. With lower centroid values for 'Engagement' and 'Reacts', this captures typical engagement pattern for Facebook posts. These posts probably do not evoke strong emotional reactions, leading to a more moderate level of engagement. The content in this cluster might be more routine or expected. This cluster represents the bulk of content, forming the foundational engagement behavior on the platform. A \"normal\" post in Cluster 1 might be a standard photo update from the brand with a simple caption. It receives a modest amount of 'likes' and a few 'shares' from loyal followers but doesn't spark significant discussion or emotional reaction. This kind of post maintains a steady presence on the platform and keeps followers informed but is less likely to break through to wider audiences or go viral. This post can be the products that they are selling. These photos will be searched up by the potential buyers later on.\n",
    "\n",
    "Having more clusters could capture the differences better. There might subgroups within the clusters that have different behaviors or characteristics, more clusters could be justified. Since this is about Facebook live selling, decisions or strategies can be neatly divided into two groups. Which posts have better engagements? Which posts need to have boost? Since the 2023 data shows more people engage in videos, seller should focus on betterment of their live selling. In this case, it does not only imply to just do live selling. Photo uploads still works. There is no big issue on why these photos were not 'liked' or 'love' by the followers. It does not give a lot of engagement, but it was never shown how the seller's direct messages look like. Maybe the inbox is full of inquiries from potential buyers. This can be a reminder to sellers to inform their audience that they've uploaded photos with prices and available sizes. Two clusters can lead to simpler and more actionable insights, and adding a third cluster might not add value and could complicate the strategy."
   ]
  },
  {
   "cell_type": "markdown",
   "id": "8fd893bb",
   "metadata": {},
   "source": [
    "<h2>Analysis</h2>"
   ]
  },
  {
   "cell_type": "markdown",
   "id": "6a991a86",
   "metadata": {},
   "source": [
    "<h3> Creating New Features </h3>"
   ]
  },
  {
   "cell_type": "code",
   "execution_count": 28,
   "id": "97b23ae5",
   "metadata": {},
   "outputs": [
    {
     "data": {
      "text/html": [
       "<div>\n",
       "<style scoped>\n",
       "    .dataframe tbody tr th:only-of-type {\n",
       "        vertical-align: middle;\n",
       "    }\n",
       "\n",
       "    .dataframe tbody tr th {\n",
       "        vertical-align: top;\n",
       "    }\n",
       "\n",
       "    .dataframe thead th {\n",
       "        text-align: right;\n",
       "    }\n",
       "</style>\n",
       "<table border=\"1\" class=\"dataframe\">\n",
       "  <thead>\n",
       "    <tr style=\"text-align: right;\">\n",
       "      <th></th>\n",
       "      <th>status_id</th>\n",
       "      <th>status_type</th>\n",
       "      <th>time_published</th>\n",
       "      <th>Cluster</th>\n",
       "      <th>Engagement</th>\n",
       "      <th>Reacts</th>\n",
       "      <th>hour_of_day</th>\n",
       "      <th>time_of_day</th>\n",
       "      <th>time_Afternoon</th>\n",
       "      <th>time_Evening</th>\n",
       "      <th>time_Morning</th>\n",
       "      <th>time_Night</th>\n",
       "      <th>day_of_week</th>\n",
       "      <th>year</th>\n",
       "      <th>month</th>\n",
       "      <th>year_2017</th>\n",
       "      <th>year_2018</th>\n",
       "      <th>year_2019</th>\n",
       "      <th>year_2020</th>\n",
       "      <th>year_2021</th>\n",
       "      <th>year_2022</th>\n",
       "      <th>year_2023</th>\n",
       "      <th>month_1</th>\n",
       "      <th>month_2</th>\n",
       "      <th>month_3</th>\n",
       "      <th>month_4</th>\n",
       "      <th>month_5</th>\n",
       "      <th>month_6</th>\n",
       "      <th>month_7</th>\n",
       "      <th>month_8</th>\n",
       "      <th>month_9</th>\n",
       "      <th>month_10</th>\n",
       "      <th>month_11</th>\n",
       "      <th>month_12</th>\n",
       "      <th>is_photo</th>\n",
       "    </tr>\n",
       "  </thead>\n",
       "  <tbody>\n",
       "    <tr>\n",
       "      <th>0</th>\n",
       "      <td>1</td>\n",
       "      <td>photo</td>\n",
       "      <td>2023-07-04 22:45:00</td>\n",
       "      <td>1</td>\n",
       "      <td>-0.62</td>\n",
       "      <td>-0.01</td>\n",
       "      <td>22</td>\n",
       "      <td>Evening</td>\n",
       "      <td>0</td>\n",
       "      <td>1</td>\n",
       "      <td>0</td>\n",
       "      <td>0</td>\n",
       "      <td>1</td>\n",
       "      <td>2023</td>\n",
       "      <td>7</td>\n",
       "      <td>0</td>\n",
       "      <td>0</td>\n",
       "      <td>0</td>\n",
       "      <td>0</td>\n",
       "      <td>0</td>\n",
       "      <td>0</td>\n",
       "      <td>1</td>\n",
       "      <td>0</td>\n",
       "      <td>0</td>\n",
       "      <td>0</td>\n",
       "      <td>0</td>\n",
       "      <td>0</td>\n",
       "      <td>0</td>\n",
       "      <td>1</td>\n",
       "      <td>0</td>\n",
       "      <td>0</td>\n",
       "      <td>0</td>\n",
       "      <td>0</td>\n",
       "      <td>0</td>\n",
       "      <td>1</td>\n",
       "    </tr>\n",
       "    <tr>\n",
       "      <th>1</th>\n",
       "      <td>2</td>\n",
       "      <td>photo</td>\n",
       "      <td>2023-06-23 01:01:00</td>\n",
       "      <td>1</td>\n",
       "      <td>-0.47</td>\n",
       "      <td>0.13</td>\n",
       "      <td>1</td>\n",
       "      <td>Night</td>\n",
       "      <td>0</td>\n",
       "      <td>0</td>\n",
       "      <td>0</td>\n",
       "      <td>1</td>\n",
       "      <td>4</td>\n",
       "      <td>2023</td>\n",
       "      <td>6</td>\n",
       "      <td>0</td>\n",
       "      <td>0</td>\n",
       "      <td>0</td>\n",
       "      <td>0</td>\n",
       "      <td>0</td>\n",
       "      <td>0</td>\n",
       "      <td>1</td>\n",
       "      <td>0</td>\n",
       "      <td>0</td>\n",
       "      <td>0</td>\n",
       "      <td>0</td>\n",
       "      <td>0</td>\n",
       "      <td>1</td>\n",
       "      <td>0</td>\n",
       "      <td>0</td>\n",
       "      <td>0</td>\n",
       "      <td>0</td>\n",
       "      <td>0</td>\n",
       "      <td>0</td>\n",
       "      <td>1</td>\n",
       "    </tr>\n",
       "    <tr>\n",
       "      <th>2</th>\n",
       "      <td>3</td>\n",
       "      <td>photo</td>\n",
       "      <td>2023-06-21 02:23:00</td>\n",
       "      <td>1</td>\n",
       "      <td>-0.47</td>\n",
       "      <td>0.13</td>\n",
       "      <td>2</td>\n",
       "      <td>Night</td>\n",
       "      <td>0</td>\n",
       "      <td>0</td>\n",
       "      <td>0</td>\n",
       "      <td>1</td>\n",
       "      <td>2</td>\n",
       "      <td>2023</td>\n",
       "      <td>6</td>\n",
       "      <td>0</td>\n",
       "      <td>0</td>\n",
       "      <td>0</td>\n",
       "      <td>0</td>\n",
       "      <td>0</td>\n",
       "      <td>0</td>\n",
       "      <td>1</td>\n",
       "      <td>0</td>\n",
       "      <td>0</td>\n",
       "      <td>0</td>\n",
       "      <td>0</td>\n",
       "      <td>0</td>\n",
       "      <td>1</td>\n",
       "      <td>0</td>\n",
       "      <td>0</td>\n",
       "      <td>0</td>\n",
       "      <td>0</td>\n",
       "      <td>0</td>\n",
       "      <td>0</td>\n",
       "      <td>1</td>\n",
       "    </tr>\n",
       "    <tr>\n",
       "      <th>3</th>\n",
       "      <td>4</td>\n",
       "      <td>video</td>\n",
       "      <td>2023-06-14 05:16:00</td>\n",
       "      <td>1</td>\n",
       "      <td>0.37</td>\n",
       "      <td>0.24</td>\n",
       "      <td>5</td>\n",
       "      <td>Morning</td>\n",
       "      <td>0</td>\n",
       "      <td>0</td>\n",
       "      <td>1</td>\n",
       "      <td>0</td>\n",
       "      <td>2</td>\n",
       "      <td>2023</td>\n",
       "      <td>6</td>\n",
       "      <td>0</td>\n",
       "      <td>0</td>\n",
       "      <td>0</td>\n",
       "      <td>0</td>\n",
       "      <td>0</td>\n",
       "      <td>0</td>\n",
       "      <td>1</td>\n",
       "      <td>0</td>\n",
       "      <td>0</td>\n",
       "      <td>0</td>\n",
       "      <td>0</td>\n",
       "      <td>0</td>\n",
       "      <td>1</td>\n",
       "      <td>0</td>\n",
       "      <td>0</td>\n",
       "      <td>0</td>\n",
       "      <td>0</td>\n",
       "      <td>0</td>\n",
       "      <td>0</td>\n",
       "      <td>0</td>\n",
       "    </tr>\n",
       "    <tr>\n",
       "      <th>4</th>\n",
       "      <td>5</td>\n",
       "      <td>video</td>\n",
       "      <td>2023-06-08 08:28:00</td>\n",
       "      <td>1</td>\n",
       "      <td>-0.02</td>\n",
       "      <td>-0.28</td>\n",
       "      <td>8</td>\n",
       "      <td>Morning</td>\n",
       "      <td>0</td>\n",
       "      <td>0</td>\n",
       "      <td>1</td>\n",
       "      <td>0</td>\n",
       "      <td>3</td>\n",
       "      <td>2023</td>\n",
       "      <td>6</td>\n",
       "      <td>0</td>\n",
       "      <td>0</td>\n",
       "      <td>0</td>\n",
       "      <td>0</td>\n",
       "      <td>0</td>\n",
       "      <td>0</td>\n",
       "      <td>1</td>\n",
       "      <td>0</td>\n",
       "      <td>0</td>\n",
       "      <td>0</td>\n",
       "      <td>0</td>\n",
       "      <td>0</td>\n",
       "      <td>1</td>\n",
       "      <td>0</td>\n",
       "      <td>0</td>\n",
       "      <td>0</td>\n",
       "      <td>0</td>\n",
       "      <td>0</td>\n",
       "      <td>0</td>\n",
       "      <td>0</td>\n",
       "    </tr>\n",
       "  </tbody>\n",
       "</table>\n",
       "</div>"
      ],
      "text/plain": [
       "   status_id status_type      time_published  Cluster  Engagement  Reacts  hour_of_day time_of_day  time_Afternoon  time_Evening  time_Morning  time_Night  day_of_week  year  month  year_2017  year_2018  year_2019  year_2020  year_2021  year_2022  year_2023  month_1  month_2  month_3  month_4  month_5  month_6  month_7  month_8  month_9  month_10  month_11  month_12  is_photo\n",
       "0          1       photo 2023-07-04 22:45:00        1       -0.62   -0.01           22     Evening               0             1             0           0            1  2023      7          0          0          0          0          0          0          1        0        0        0        0        0        0        1        0        0         0         0         0         1\n",
       "1          2       photo 2023-06-23 01:01:00        1       -0.47    0.13            1       Night               0             0             0           1            4  2023      6          0          0          0          0          0          0          1        0        0        0        0        0        1        0        0        0         0         0         0         1\n",
       "2          3       photo 2023-06-21 02:23:00        1       -0.47    0.13            2       Night               0             0             0           1            2  2023      6          0          0          0          0          0          0          1        0        0        0        0        0        1        0        0        0         0         0         0         1\n",
       "3          4       video 2023-06-14 05:16:00        1        0.37    0.24            5     Morning               0             0             1           0            2  2023      6          0          0          0          0          0          0          1        0        0        0        0        0        1        0        0        0         0         0         0         0\n",
       "4          5       video 2023-06-08 08:28:00        1       -0.02   -0.28            8     Morning               0             0             1           0            3  2023      6          0          0          0          0          0          0          1        0        0        0        0        0        1        0        0        0         0         0         0         0"
      ]
     },
     "execution_count": 28,
     "metadata": {},
     "output_type": "execute_result"
    }
   ],
   "source": [
    "# Creating 'hour_of_day' feature\n",
    "final_df['hour_of_day'] = final_df['time_published'].dt.hour\n",
    "\n",
    "# Categorizing 'hour_of_day' into time segments\n",
    "def categorize_hour(hour):\n",
    "    if 5 <= hour < 12:\n",
    "        return 'Morning'\n",
    "    elif 12 <= hour < 17:\n",
    "        return 'Afternoon'\n",
    "    elif 17 <= hour < 24:\n",
    "        return 'Evening'\n",
    "    else:\n",
    "        return 'Night'\n",
    "\n",
    "final_df['time_of_day'] = final_df['hour_of_day'].apply(categorize_hour)\n",
    "\n",
    "    \n",
    "# Use Pandas get_dummies to create one-hot encoded variables\n",
    "time_of_day_dummies = pd.get_dummies(final_df['time_of_day'], prefix='time')\n",
    "\n",
    "# Concatenate these new columns to the original dataframe\n",
    "final_df = pd.concat([final_df, time_of_day_dummies], axis=1)\n",
    "\n",
    "# Converting boolean columns to integer columns\n",
    "final_df['time_Afternoon'] = final_df['time_Afternoon'].astype(int)\n",
    "final_df['time_Evening'] = final_df['time_Evening'].astype(int)\n",
    "final_df['time_Morning'] = final_df['time_Morning'].astype(int)\n",
    "final_df['time_Night'] = final_df['time_Night'].astype(int)\n",
    "\n",
    "\n",
    "\n",
    "# Creating 'day_of_week' feature (0=Monday, 6=Sunday)\n",
    "final_df['day_of_week'] = final_df['time_published'].dt.dayofweek\n",
    "\n",
    "\n",
    "# Extracting year and month from the 'time_published' column\n",
    "final_df['year'] = final_df['time_published'].dt.year\n",
    "final_df['month'] = final_df['time_published'].dt.month\n",
    "\n",
    "# Creating one-hot encoded variables for each year\n",
    "year_dummies = pd.get_dummies(final_df['year'], prefix='year')\n",
    "\n",
    "# Concatenating these new columns to the original dataframe\n",
    "final_df = pd.concat([final_df, year_dummies], axis=1)\n",
    "\n",
    "final_df['year_2017'] = final_df['year_2017'].astype(int)\n",
    "final_df['year_2018'] = final_df['year_2018'].astype(int)\n",
    "final_df['year_2019'] = final_df['year_2019'].astype(int)\n",
    "final_df['year_2020'] = final_df['year_2020'].astype(int)\n",
    "final_df['year_2021'] = final_df['year_2021'].astype(int)\n",
    "final_df['year_2022'] = final_df['year_2022'].astype(int)\n",
    "final_df['year_2023'] = final_df['year_2023'].astype(int)\n",
    "\n",
    "\n",
    "# Creating one-hot encoded variables for each month\n",
    "month_dummies = pd.get_dummies(final_df['month'], prefix='month')\n",
    "\n",
    "# Concatenating these new columns to the original dataframe\n",
    "final_df = pd.concat([final_df, month_dummies], axis=1)\n",
    "\n",
    "final_df['month_1'] = final_df['month_1'].astype(int)\n",
    "final_df['month_2'] = final_df['month_2'].astype(int)\n",
    "final_df['month_3'] = final_df['month_3'].astype(int)\n",
    "final_df['month_4'] = final_df['month_4'].astype(int)\n",
    "final_df['month_5'] = final_df['month_5'].astype(int)\n",
    "final_df['month_6'] = final_df['month_6'].astype(int)\n",
    "final_df['month_7'] = final_df['month_7'].astype(int)\n",
    "final_df['month_8'] = final_df['month_8'].astype(int)\n",
    "final_df['month_9'] = final_df['month_9'].astype(int)\n",
    "final_df['month_10'] = final_df['month_10'].astype(int)\n",
    "final_df['month_11'] = final_df['month_11'].astype(int)\n",
    "final_df['month_12'] = final_df['month_12'].astype(int)\n",
    "\n",
    "# Creating a binary column where 1 indicates 'status_type' is 'photo' and 0 indicates it is not\n",
    "final_df['is_photo'] = (final_df['status_type'] == 'photo').astype(int)\n",
    "\n",
    "\n",
    "# Preview the data with new features\n",
    "final_df.head()\n"
   ]
  },
  {
   "cell_type": "code",
   "execution_count": 29,
   "id": "182aea0e",
   "metadata": {},
   "outputs": [
    {
     "data": {
      "image/png": "[encoded data removed]",
      "text/plain": [
       "<Figure size 1000x600 with 1 Axes>"
      ]
     },
     "metadata": {},
     "output_type": "display_data"
    }
   ],
   "source": [
    "# Check that 'Engagement' is a column in the DataFrame\n",
    "# avoiding errors\n",
    "if 'Engagement' in final_df.columns:\n",
    "    \n",
    "    # Group by year and calculate the mean of the PCA component for each year.\n",
    "    yearly_engagement = final_df.groupby('year')['Engagement'].mean()\n",
    "    \n",
    "    # Plotting the changes in engagement over the years\n",
    "    plt.figure(figsize=(10, 6))\n",
    "    yearly_engagement.plot(kind='line', marker='o')\n",
    "    plt.title('Changes in Engagement Over the Years')\n",
    "    plt.xlabel('Year')\n",
    "    plt.ylabel('Average Engagement')\n",
    "    plt.grid(True)\n",
    "    plt.show()\n",
    "else:\n",
    "    print(\"'PC1' column does not exist in the DataFrame.\")"
   ]
  },
  {
   "cell_type": "code",
   "execution_count": 30,
   "id": "b3034f3b",
   "metadata": {},
   "outputs": [
    {
     "name": "stdout",
     "output_type": "stream",
     "text": [
      "[1 0]\n"
     ]
    }
   ],
   "source": [
    "# checking the clusters\n",
    "print(final_df['Cluster'].unique())"
   ]
  },
  {
   "cell_type": "code",
   "execution_count": 31,
   "id": "bc443aca",
   "metadata": {},
   "outputs": [
    {
     "name": "stdout",
     "output_type": "stream",
     "text": [
      " -----------\n",
      "| Cluster 0 |\n",
      " -----------\n",
      "\n",
      "Proportion of Observations\n",
      "--------------------------\n",
      "0.0\n",
      "\n",
      "\n",
      "Centroids\n",
      "---------\n",
      "Engagement    1.18\n",
      "Reacts        2.65\n",
      "\n",
      "\n",
      "Year\n",
      "----\n",
      "year\n",
      "0.04\n",
      "0.52\n",
      "0.06\n",
      "0.03\n",
      "0.35\n",
      "  \n",
      "  \n",
      "Is Photo\n",
      "--------\n",
      "is_photo\n",
      "0.54\n",
      "0.46\n",
      "\n"
     ]
    }
   ],
   "source": [
    "# dynamic string with value counts\n",
    "print(f\"\"\"\\\n",
    " -----------\n",
    "| Cluster 0 |\n",
    " -----------\n",
    "\n",
    "Proportion of Observations\n",
    "--------------------------\n",
    "{round(len(final_df.loc[ : , \"Cluster\"][final_df.loc[ : , \"Cluster\"] == '0']) /\n",
    "       len(final_df), ndigits = 2)}\n",
    "\n",
    "\n",
    "Centroids\n",
    "---------\n",
    "{centroids_pca_df.loc[ 0 , :].to_string(dtype = False, name = False)}\n",
    "\n",
    "\n",
    "Year\n",
    "----\n",
    "{final_df.loc[final_df['Cluster'] == 0, 'year']\n",
    "         .value_counts(normalize = True)\n",
    "         .round(decimals = 2)\n",
    "         .sort_index().to_string(index = False)}\n",
    "  \n",
    "  \n",
    "Is Photo\n",
    "--------\n",
    "{final_df.loc[final_df['Cluster'] == 0, 'is_photo']\n",
    "         .value_counts(normalize = True)\n",
    "         .round(decimals = 2)\n",
    "         .sort_index().to_string(index = False)}\n",
    "\"\"\")"
   ]
  },
  {
   "cell_type": "code",
   "execution_count": 32,
   "id": "16cf7e6d",
   "metadata": {},
   "outputs": [
    {
     "name": "stdout",
     "output_type": "stream",
     "text": [
      " -----------\n",
      "| Cluster 1 |\n",
      " -----------\n",
      "\n",
      "Proportion of Observations\n",
      "--------------------------\n",
      "0.0\n",
      "\n",
      "\n",
      "Centroids\n",
      "---------\n",
      "Engagement   -0.08\n",
      "Reacts       -0.19\n",
      "\n",
      "\n",
      "Year\n",
      "----\n",
      "year\n",
      "0.08\n",
      "0.07\n",
      "0.05\n",
      "0.01\n",
      "0.08\n",
      "0.17\n",
      "0.55\n",
      "  \n",
      "  \n",
      "Is Photo\n",
      "--------\n",
      "is_photo\n",
      "0.38\n",
      "0.62\n",
      "\n"
     ]
    }
   ],
   "source": [
    "# dynamic string with value counts\n",
    "print(f\"\"\"\\\n",
    " -----------\n",
    "| Cluster 1 |\n",
    " -----------\n",
    "\n",
    "Proportion of Observations\n",
    "--------------------------\n",
    "{round(len(final_df.loc[ : , \"Cluster\"][final_df.loc[ : , \"Cluster\"] == '1']) /\n",
    "       len(final_df), ndigits = 2)}\n",
    "\n",
    "\n",
    "Centroids\n",
    "---------\n",
    "{centroids_pca_df.loc[ 1 , :].to_string(dtype = False, name = False)}\n",
    "\n",
    "\n",
    "Year\n",
    "----\n",
    "{final_df.loc[final_df['Cluster'] == 1, 'year']\n",
    "         .value_counts(normalize = True)\n",
    "         .round(decimals = 2)\n",
    "         .sort_index().to_string(index = False)}\n",
    "  \n",
    "  \n",
    "Is Photo\n",
    "--------\n",
    "{final_df.loc[final_df['Cluster'] == 1, 'is_photo']\n",
    "         .value_counts(normalize = True)\n",
    "         .round(decimals = 2)\n",
    "         .sort_index().to_string(index = False)}\n",
    "\"\"\")"
   ]
  },
  {
   "cell_type": "markdown",
   "id": "fd565a83",
   "metadata": {},
   "source": [
    "<h2>Linear Regression</h2>"
   ]
  },
  {
   "cell_type": "markdown",
   "id": "f005af7b",
   "metadata": {},
   "source": [
    "<h3>Model 1: Original x-features</h3>"
   ]
  },
  {
   "cell_type": "code",
   "execution_count": 33,
   "id": "bc4ad8d9",
   "metadata": {},
   "outputs": [],
   "source": [
    "# choosing x_features\n",
    "fb_features = facebook[ ['num_comments', 'num_shares', 'num_likes', 'num_loves', \n",
    "                         'num_wows', 'num_hahas', 'num_sads', 'num_angrys'] ]"
   ]
  },
  {
   "cell_type": "code",
   "execution_count": 34,
   "id": "411018e0",
   "metadata": {},
   "outputs": [],
   "source": [
    "# selecting x- and y-data\n",
    "x_data = fb_features\n",
    "y_data = final_df['is_photo']\n",
    "\n",
    "\n",
    "# training and testing sets\n",
    "x_train, x_test, y_train, y_test = train_test_split(x_data,\n",
    "                                                    y_data,\n",
    "                                                    test_size    = 0.25,\n",
    "                                                    random_state = 702,\n",
    "                                                    stratify     = y_data)"
   ]
  },
  {
   "cell_type": "code",
   "execution_count": 35,
   "id": "07ac92af",
   "metadata": {},
   "outputs": [
    {
     "name": "stdout",
     "output_type": "stream",
     "text": [
      "\n",
      "Train-Test Gap: 0.017\n",
      "Test AUC Score: 0.678\n",
      "\n"
     ]
    }
   ],
   "source": [
    "# INSTANTIATING a logistic regression model\n",
    "model = sklearn.linear_model.LogisticRegression(solver       = 'lbfgs',\n",
    "                                                C            = 1,\n",
    "                                                random_state = 702)\n",
    "\n",
    "\n",
    "# FITTING the training data\n",
    "model_fit = model.fit(x_train, y_train)\n",
    "\n",
    "\n",
    "# PREDICTING based on the testing set\n",
    "model_pred = model_fit.predict(x_test) # predict_proba for multiclass\n",
    "\n",
    "\n",
    "# checking results\n",
    "train_acc = model_fit.score(x_train, y_train)\n",
    "test_acc  = model_fit.score(x_test , y_test )\n",
    "roc_score = roc_auc_score  (y_true      = y_test,\n",
    "                            y_score     = model_pred)\n",
    "\n",
    "\n",
    "print(f\"\"\"\n",
    "Train-Test Gap: {round(abs(train_acc - test_acc), ndigits = 3)}\n",
    "Test AUC Score: {roc_score.round(decimals = 3)}\n",
    "\"\"\")"
   ]
  },
  {
   "cell_type": "code",
   "execution_count": 36,
   "id": "b7fcb01d",
   "metadata": {},
   "outputs": [
    {
     "name": "stdout",
     "output_type": "stream",
     "text": [
      "\n",
      "True Negatives : 92\n",
      "False Positives: 138\n",
      "False Negatives: 16\n",
      "True Positives : 345\n",
      "\n"
     ]
    }
   ],
   "source": [
    "# unpacking the confusion matrix\n",
    "model_tn, \\\n",
    "model_fp, \\\n",
    "model_fn, \\\n",
    "model_tp = confusion_matrix(y_true = y_test, y_pred = model_pred).ravel()\n",
    "\n",
    "\n",
    "# printing each result one-by-one\n",
    "print(f\"\"\"\n",
    "True Negatives : {model_tn}\n",
    "False Positives: {model_fp}\n",
    "False Negatives: {model_fn}\n",
    "True Positives : {model_tp}\n",
    "\"\"\")"
   ]
  },
  {
   "cell_type": "markdown",
   "id": "2e9aca50",
   "metadata": {},
   "source": [
    "<h3>Model 2: Retained principal components</h3>"
   ]
  },
  {
   "cell_type": "code",
   "execution_count": 37,
   "id": "6a01d587",
   "metadata": {},
   "outputs": [],
   "source": [
    "# selecting x- and y-data\n",
    "x_data = fb_pca\n",
    "y_data = final_df['is_photo']\n",
    "\n",
    "\n",
    "# training and testing sets\n",
    "x_train, x_test, y_train, y_test = train_test_split(x_data,\n",
    "                                                    y_data,\n",
    "                                                    test_size    = 0.25,\n",
    "                                                    random_state = 702,\n",
    "                                                    stratify     = y_data)"
   ]
  },
  {
   "cell_type": "code",
   "execution_count": 38,
   "id": "51c8258e",
   "metadata": {},
   "outputs": [
    {
     "name": "stdout",
     "output_type": "stream",
     "text": [
      "\n",
      "Train-Test Gap: 0.014\n",
      "Test AUC Score: 0.678\n",
      "\n"
     ]
    }
   ],
   "source": [
    "# INSTANTIATING a logistic regression model\n",
    "model = sklearn.linear_model.LogisticRegression(solver       = 'lbfgs',\n",
    "                                                C            = 1,\n",
    "                                                random_state = 702)\n",
    "\n",
    "\n",
    "# FITTING the training data\n",
    "model_fit = model.fit(x_train, y_train)\n",
    "\n",
    "\n",
    "# PREDICTING based on the testing set\n",
    "model_pred = model_fit.predict(x_test) # predict_proba for multiclass\n",
    "\n",
    "\n",
    "# checking results\n",
    "train_acc = model_fit.score(x_train, y_train)\n",
    "test_acc  = model_fit.score(x_test , y_test )\n",
    "roc_score = roc_auc_score  (y_true      = y_test,\n",
    "                            y_score     = model_pred)\n",
    "\n",
    "\n",
    "print(f\"\"\"\n",
    "Train-Test Gap: {round(abs(train_acc - test_acc), ndigits = 3)}\n",
    "Test AUC Score: {roc_score.round(decimals = 3)}\n",
    "\"\"\")"
   ]
  },
  {
   "cell_type": "code",
   "execution_count": 39,
   "id": "54a51865",
   "metadata": {},
   "outputs": [
    {
     "name": "stdout",
     "output_type": "stream",
     "text": [
      "\n",
      "True Negatives : 91\n",
      "False Positives: 139\n",
      "False Negatives: 14\n",
      "True Positives : 347\n",
      "\n"
     ]
    }
   ],
   "source": [
    "# unpacking the confusion matrix\n",
    "model_tn, \\\n",
    "model_fp, \\\n",
    "model_fn, \\\n",
    "model_tp = confusion_matrix(y_true = y_test, y_pred = model_pred).ravel()\n",
    "\n",
    "\n",
    "# printing each result one-by-one\n",
    "print(f\"\"\"\n",
    "True Negatives : {model_tn}\n",
    "False Positives: {model_fp}\n",
    "False Negatives: {model_fn}\n",
    "True Positives : {model_tp}\n",
    "\"\"\")"
   ]
  },
  {
   "cell_type": "markdown",
   "id": "2cdbf98f",
   "metadata": {},
   "source": [
    "<h3>Model 3: Retained clusters</h3>"
   ]
  },
  {
   "cell_type": "code",
   "execution_count": 40,
   "id": "40c028a8",
   "metadata": {},
   "outputs": [
    {
     "data": {
      "text/plain": [
       "1\n",
       "1    2206\n",
       "0     156\n",
       "Name: count, dtype: int64"
      ]
     },
     "execution_count": 40,
     "metadata": {},
     "output_type": "execute_result"
    }
   ],
   "source": [
    "# factorizing cluster results \n",
    "cluster_df = pd.get_dummies(data       = fb_kmeans_pca['Cluster'],\n",
    "                            drop_first = True).astype(dtype = int)\n",
    "\n",
    "\n",
    "# checking results\n",
    "cluster_df.value_counts(normalize = False).sort_index(ascending = False)"
   ]
  },
  {
   "cell_type": "code",
   "execution_count": 41,
   "id": "4765ae98",
   "metadata": {},
   "outputs": [],
   "source": [
    "# selecting x- and y-data\n",
    "x_data = cluster_df\n",
    "y_data = final_df['is_photo']\n",
    "\n",
    "\n",
    "# training and testing sets\n",
    "x_train, x_test, y_train, y_test = train_test_split(x_data,\n",
    "                                                    y_data,\n",
    "                                                    test_size    = 0.25,\n",
    "                                                    random_state = 702,\n",
    "                                                    stratify     = y_data)"
   ]
  },
  {
   "cell_type": "code",
   "execution_count": 42,
   "id": "773c0150",
   "metadata": {},
   "outputs": [
    {
     "name": "stdout",
     "output_type": "stream",
     "text": [
      "\n",
      "Train-Test Gap: 0.0\n",
      "Test AUC Score: 0.522\n",
      "\n"
     ]
    }
   ],
   "source": [
    "# INSTANTIATING a logistic regression model\n",
    "model = sklearn.linear_model.LogisticRegression(solver       = 'lbfgs',\n",
    "                                                C            = 1,\n",
    "                                                random_state = 702)\n",
    "\n",
    "\n",
    "# FITTING the training data\n",
    "model_fit = model.fit(x_train, y_train)\n",
    "\n",
    "\n",
    "# PREDICTING based on the testing set\n",
    "model_pred = model_fit.predict(x_test) # predict_proba for multiclass\n",
    "\n",
    "\n",
    "# checking results\n",
    "train_acc = model_fit.score(x_train, y_train)\n",
    "test_acc  = model_fit.score(x_test , y_test )\n",
    "roc_score = roc_auc_score  (y_true  = y_test,\n",
    "                            y_score = model_pred)\n",
    "\n",
    "\n",
    "print(f\"\"\"\n",
    "Train-Test Gap: {round(abs(train_acc - test_acc), ndigits = 3)}\n",
    "Test AUC Score: {round(roc_score, ndigits = 3)}\n",
    "\"\"\")"
   ]
  },
  {
   "cell_type": "code",
   "execution_count": 43,
   "id": "f64e2d14",
   "metadata": {},
   "outputs": [
    {
     "name": "stdout",
     "output_type": "stream",
     "text": [
      "\n",
      "True Negatives : 22\n",
      "False Positives: 208\n",
      "False Negatives: 19\n",
      "True Positives : 342\n",
      "\n"
     ]
    }
   ],
   "source": [
    "# unpacking the confusion matrix\n",
    "model_tn, \\\n",
    "model_fp, \\\n",
    "model_fn, \\\n",
    "model_tp = confusion_matrix(y_true = y_test, y_pred = model_pred).ravel()\n",
    "\n",
    "\n",
    "# printing each result one-by-one\n",
    "print(f\"\"\"\n",
    "True Negatives : {model_tn}\n",
    "False Positives: {model_fp}\n",
    "False Negatives: {model_fn}\n",
    "True Positives : {model_tp}\n",
    "\"\"\")"
   ]
  },
  {
   "cell_type": "markdown",
   "id": "0f280fa9",
   "metadata": {},
   "source": [
    "<h2> Analysis of Best Model: Model 2</h2>"
   ]
  },
  {
   "cell_type": "markdown",
   "id": "8c7fa78a",
   "metadata": {},
   "source": [
    "The Model 2 was chosen to be the best model for its stability and prediction, since it has Train-Test Gap of 0.014. This performs for a task where even a slight improvement in AUC is crucial. The higher AUC Score indicates that, on the test set, it is slightly more accurate at ranking positive instances higher than negative ones. This indicate that the model will perform reliably in production or on future data. This shows very little overfitting and may perform more consistently across different datasets. It suggests that the model performs almost equally well on both the training data and the unseen test data. Their difference in AUC is very little. This shows that it is marginally better at distinguishing between the classes than the first model.\n",
    "\n",
    "\n",
    "True Negatives: The model correctly predicted 91 instances as negative. This shows the model's accuracy in identifying the negative class.\n",
    "False Positives: The model incorrectly predicted 139 instances as positive that are actually negative. These are Type I errors and represent instances where the model predicted the outcome incorrectly as positive.\n",
    "False Negatives: The model incorrectly predicted 14 instances as negative that are actually positive. These are Type II errors and represent instances where the model failed to identify the positive outcome.\n",
    "True Positives: The model correctly predicted 347 instances as positive. This indicates the cases where the model's prediction was accurate for the positive class.\n",
    "\n",
    "The model has a high number of True Positives compared to False Negatives, suggesting it has high sensitivity or recall. It is good at capturing the positive class and not missing out on many positive cases. There are more False Positives than True Negatives, the specificity of the model may be a concern, since the model incorrectly flags many negatives as positives. The model's precision is the proportion of positive identifications that were actually correct. The large number of false positives could lower the overall accuracy. False positives might lead to wasted resources. This could mean targeting users who are not interested in the product, no revenue will be earned. The low number of False Negatives is a good sign. This may overpredict the positive class given the high number of false positives.\n",
    "\n"
   ]
  },
  {
   "cell_type": "markdown",
   "id": "dd888bae",
   "metadata": {},
   "source": [
    "     "
   ]
  },
  {
   "cell_type": "markdown",
   "id": "0a8a6f5e",
   "metadata": {},
   "source": [
    "References:\n",
    "\n",
    "Bharadwaj, A., Chaudhary, A., Kittikachorn, P., & Rastogi, V. (2017). Five consumer trends to watch in Thailand. BCG Global. https://www.bcg.com/publications/2017/globalization-go-to-markets-five-consumer-trends-watch-thailand \n",
    "\n",
    "Facebook live shopping: A guide to boosting Ecommerce sales. BigCommerce. (n.d.). https://www.bigcommerce.com/articles/omnichannel-retail/facebook-live-shopping/ \n",
    "\n",
    "How Facebook distributes content. Facebook. (n.d.). https://www.facebook.com/business/help/718033381901819?id=208060977200861 \n",
    "\n",
    "How images boost engagement on facebook. McAllister Marketing. (2017). https://mcallistermarketing.com/images-boost-engagement-facebook/ \n",
    "\n",
    "Lang, K. (2023). Decoding the Facebook Algorithm in 2024: Everything You Need to Know. Buffer. https://buffer.com/library/facebook-news-feed-algorithm/ \n",
    "\n",
    "Norcross, D. (2019). Social Media Trends 2019: Part 1 - facebook in Thailand. Lexicon. https://lexiconthai.com/blog/social-media-trends-2019-facebook-in-thailand/ \n",
    "\n",
    "Scorpio, A. (2023). Selling on Facebook: An Ecommerce Guide to Selling on Facebook Marketplace. ShipBob. https://www.shipbob.com/blog/selling-on-facebook/ \n",
    "\n",
    "Thailand ecommerce: A comprehensive look. ZhenHub. (2023). https://zhenhub.com/blog/thailand-ecommerce/ \n",
    "\n",
    "Thailand ecommerce Databook report 2023 explores accelerated growth, new Databook reveals in-depth market Kpis and consumer dynamics - forecasts to 2027 - researchandmarkets.com. Business Wire. (2024, February 5). https://www.businesswire.com/news/home/20240205023189/en/Thailand-Ecommerce-Databook-Report-2023-Explores-Accelerated-Growth-New-Databook-Reveals-In-Depth-Market-KPIs-and-Consumer-Dynamics---Forecasts-to-2027---ResearchAndMarkets.com \n",
    "\n"
   ]
  }
 ],
 "metadata": {
  "kernelspec": {
   "display_name": "Python 3 (ipykernel)",
   "language": "python",
   "name": "python3"
  },
  "language_info": {
   "codemirror_mode": {
    "name": "ipython",
    "version": 3
   },
   "file_extension": ".py",
   "mimetype": "text/x-python",
   "name": "python",
   "nbconvert_exporter": "python",
   "pygments_lexer": "ipython3",
   "version": "3.11.5"
  },
  "toc": {
   "base_numbering": 1,
   "nav_menu": {},
   "number_sections": true,
   "sideBar": true,
   "skip_h1_title": false,
   "title_cell": "Table of Contents",
   "title_sidebar": "Contents",
   "toc_cell": false,
   "toc_position": {},
   "toc_section_display": true,
   "toc_window_display": false
  },
  "varInspector": {
   "cols": {
    "lenName": 16,
    "lenType": 16,
    "lenVar": 40
   },
   "kernels_config": {
    "python": {
     "delete_cmd_postfix": "",
     "delete_cmd_prefix": "del ",
     "library": "var_list.py",
     "varRefreshCmd": "print(var_dic_list())"
    },
    "r": {
     "delete_cmd_postfix": ") ",
     "delete_cmd_prefix": "rm(",
     "library": "var_list.r",
     "varRefreshCmd": "cat(var_dic_list()) "
    }
   },
   "types_to_exclude": [
    "module",
    "function",
    "builtin_function_or_method",
    "instance",
    "_Feature"
   ],
   "window_display": false
  }
 },
 "nbformat": 4,
 "nbformat_minor": 5
}
